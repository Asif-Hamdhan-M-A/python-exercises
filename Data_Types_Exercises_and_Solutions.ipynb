{
  "nbformat": 4,
  "nbformat_minor": 0,
  "metadata": {
    "colab": {
      "provenance": []
    },
    "kernelspec": {
      "name": "python3",
      "display_name": "Python 3"
    },
    "language_info": {
      "name": "python"
    }
  },
  "cells": [
    {
      "cell_type": "markdown",
      "source": [
        "# **List Exercises**"
      ],
      "metadata": {
        "id": "Rg0ug2Ii3qJQ"
      }
    },
    {
      "cell_type": "code",
      "source": [
        "# 1. Declare an empty list\n",
        "\n",
        "empty_list = []           # Creates an empty list\n",
        "print(empty_list)         # Output: []"
      ],
      "metadata": {
        "colab": {
          "base_uri": "https://localhost:8080/"
        },
        "id": "nbFPq7Hd3yII",
        "outputId": "4e90519b-610d-485a-ff74-ac8c1700b0c5"
      },
      "execution_count": 1,
      "outputs": [
        {
          "output_type": "stream",
          "name": "stdout",
          "text": [
            "[]\n"
          ]
        }
      ]
    },
    {
      "cell_type": "code",
      "source": [
        "# 2. Declare a list with more than 5 items\n",
        "\n",
        "item = ['python', 525, 'lemon', 2.3, 3+4j]  # Mixed data types in a list\n",
        "print(item)"
      ],
      "metadata": {
        "colab": {
          "base_uri": "https://localhost:8080/"
        },
        "id": "WsvrqBCH4KmD",
        "outputId": "1cd44ffb-e954-45cc-e7fc-388737b5b74b"
      },
      "execution_count": 2,
      "outputs": [
        {
          "output_type": "stream",
          "name": "stdout",
          "text": [
            "['python', 525, 'lemon', 2.3, (3+4j)]\n"
          ]
        }
      ]
    },
    {
      "cell_type": "code",
      "source": [
        "# 3. Find the length of your list\n",
        "fruits = [\"Apple\", \"Banana\", \"Mango\", \"Orange\", \"Grapes\", \"Pineapple\", \"Cherry\"]\n",
        "print(len(fruits))        # Output: 7"
      ],
      "metadata": {
        "colab": {
          "base_uri": "https://localhost:8080/"
        },
        "id": "Xfkcv9Mo4Kin",
        "outputId": "316aa856-5579-4bcf-e2a9-068082583498"
      },
      "execution_count": 3,
      "outputs": [
        {
          "output_type": "stream",
          "name": "stdout",
          "text": [
            "7\n"
          ]
        }
      ]
    },
    {
      "cell_type": "code",
      "source": [
        "# 4.Get the first item, the middle item and the last item of the list\n",
        "\n",
        "fruits = [\"Apple\", \"Banana\", \"Mango\", \"Grapes\", \"Pineapple\"]\n",
        "print(fruits[0])          # First item: Apple\n",
        "print(fruits[2])          # Middle item: Mango\n",
        "print(fruits[-1])         # Last item: Pineapple"
      ],
      "metadata": {
        "colab": {
          "base_uri": "https://localhost:8080/"
        },
        "id": "KKhaFm3S4KgL",
        "outputId": "1d12ee3d-d41e-46bf-ae1b-bdd9092f71ab"
      },
      "execution_count": 4,
      "outputs": [
        {
          "output_type": "stream",
          "name": "stdout",
          "text": [
            "Apple\n",
            "Mango\n",
            "Pineapple\n"
          ]
        }
      ]
    },
    {
      "cell_type": "code",
      "source": [
        "# 5.Declare a list called mixed_data_types, put your(name, age, height, marital status, address)\n",
        "\n",
        "mixed_data_types = [\"Asif\", 20, 5.95, 'single', \"Ernakulam, Kerala\"]\n",
        "print(mixed_data_types)"
      ],
      "metadata": {
        "colab": {
          "base_uri": "https://localhost:8080/"
        },
        "id": "Dja6vbMt4KeF",
        "outputId": "2aabaf69-72c0-4832-aabc-88c8a14774ec"
      },
      "execution_count": 6,
      "outputs": [
        {
          "output_type": "stream",
          "name": "stdout",
          "text": [
            "['Asif', 20, 5.95, 'single', 'Ernakulam, Kerala']\n"
          ]
        }
      ]
    },
    {
      "cell_type": "code",
      "source": [
        "# 6. Declare a list variable named it_companies and assign initial values\n",
        "# Facebook, Google, Microsoft, Apple, IBM, Oracle and Amazon.\n",
        "\n",
        "it_companies=[\"Facebook\", \"Google\", \"Microsoft\", \"Apple\", \"IBM\", \"Oracle\",\"Amazon\"]\n",
        "print(it_companies)"
      ],
      "metadata": {
        "colab": {
          "base_uri": "https://localhost:8080/"
        },
        "id": "mjoT0-fT4Kbl",
        "outputId": "1506ee44-76a8-4688-e8ca-51da632428f7"
      },
      "execution_count": 7,
      "outputs": [
        {
          "output_type": "stream",
          "name": "stdout",
          "text": [
            "['Facebook', 'Google', 'Microsoft', 'Apple', 'IBM', 'Oracle', 'Amazon']\n"
          ]
        }
      ]
    },
    {
      "cell_type": "code",
      "source": [
        "#7. Print the list using print()\n",
        "lis=[\"abc\",123,\"lime\",(3+4j)]\n",
        "print(lis)"
      ],
      "metadata": {
        "colab": {
          "base_uri": "https://localhost:8080/"
        },
        "id": "8zC3YTNy4KY9",
        "outputId": "d726906f-0e49-4ade-88ae-05378397080c"
      },
      "execution_count": 8,
      "outputs": [
        {
          "output_type": "stream",
          "name": "stdout",
          "text": [
            "['abc', 123, 'lime', (3+4j)]\n"
          ]
        }
      ]
    },
    {
      "cell_type": "code",
      "source": [
        "# 8. Print the number of companies in the list\n",
        "\n",
        "companies=[\"Suzuki\", \"Benz\", \"Lamborgini\", \"BMW\", \"Toyota\", \"Mazda\"]\n",
        "print(\"Number of companies:\",len(companies))"
      ],
      "metadata": {
        "colab": {
          "base_uri": "https://localhost:8080/"
        },
        "id": "-uERqgxa4KWi",
        "outputId": "614a8fb4-d5c3-4436-da1c-061acd45b0d8"
      },
      "execution_count": 11,
      "outputs": [
        {
          "output_type": "stream",
          "name": "stdout",
          "text": [
            "Number of companies: 6\n"
          ]
        }
      ]
    },
    {
      "cell_type": "code",
      "source": [
        "# 9. Print the first, middle and last company\n",
        "\n",
        "companies=[\"Suzuki\", \"Benz\", \"Lamborgini\", \"BMW\", \"Toyota\", \"Mazda\"]\n",
        "print(\"First companies:\",companies[0])\n",
        "print(\"Middle companies:\",companies[len(companies)//2])\n",
        "print(\"Last companies:\",companies[-1])"
      ],
      "metadata": {
        "colab": {
          "base_uri": "https://localhost:8080/"
        },
        "id": "_RCA3esP4KUJ",
        "outputId": "68d4d1b8-0ad6-4519-8707-be3878eb00dc"
      },
      "execution_count": 12,
      "outputs": [
        {
          "output_type": "stream",
          "name": "stdout",
          "text": [
            "First companies: Suzuki\n",
            "Middle companies: BMW\n",
            "Last companies: Mazda\n"
          ]
        }
      ]
    },
    {
      "cell_type": "code",
      "source": [
        "# 10. Print the list after modifying one of the companies\n",
        "companies=[\"Suzuki\", \"Benz\", \"Lamborgini\", \"BMW\", \"Toyota\", \"Mazda\"]\n",
        "print(companies)\n",
        "companies[5]=\"Google\"\n",
        "print(companies)"
      ],
      "metadata": {
        "colab": {
          "base_uri": "https://localhost:8080/"
        },
        "id": "0Lp2_TlN4KRi",
        "outputId": "e89102f3-74c8-47eb-eabf-b6a768bf63e0"
      },
      "execution_count": 13,
      "outputs": [
        {
          "output_type": "stream",
          "name": "stdout",
          "text": [
            "['Suzuki', 'Benz', 'Lamborgini', 'BMW', 'Toyota', 'Mazda']\n",
            "['Suzuki', 'Benz', 'Lamborgini', 'BMW', 'Toyota', 'Google']\n"
          ]
        }
      ]
    },
    {
      "cell_type": "code",
      "source": [
        "# 11. Add an IT company to it_companies\n",
        "\n",
        "it_companies.append(\"Tecz\")  # Add 'Ebay' to the end of the list\n",
        "print(it_companies)"
      ],
      "metadata": {
        "colab": {
          "base_uri": "https://localhost:8080/"
        },
        "id": "zAYlhJc44KO9",
        "outputId": "f7f5d03e-54db-4c9f-8ef4-03e482b7971c"
      },
      "execution_count": 15,
      "outputs": [
        {
          "output_type": "stream",
          "name": "stdout",
          "text": [
            "['Facebook', 'Google', 'Microsoft', 'Apple', 'IBM', 'Oracle', 'Amazon', 'Ebay', 'Tecz']\n"
          ]
        }
      ]
    },
    {
      "cell_type": "code",
      "source": [
        "# 12. Insert an IT company in the middle of the companies list\n",
        "\n",
        "it_companies.insert(len(it_companies)//2, \"Tecz\")  # Insert 'Ebay' at the middle index\n",
        "print(it_companies)"
      ],
      "metadata": {
        "colab": {
          "base_uri": "https://localhost:8080/"
        },
        "id": "hl-qV38D4KMn",
        "outputId": "a8a207d7-4483-4de9-cf08-15d3bd2bebad"
      },
      "execution_count": 16,
      "outputs": [
        {
          "output_type": "stream",
          "name": "stdout",
          "text": [
            "['Facebook', 'Google', 'Microsoft', 'Apple', 'Tecz', 'IBM', 'Oracle', 'Amazon', 'Ebay', 'Tecz']\n"
          ]
        }
      ]
    },
    {
      "cell_type": "code",
      "source": [
        "# 13. Change one of the it_companies names to uppercase (IBM excluded!)\n",
        "\n",
        "it_companies=[\"Facebook\", \"Google\", \"Microsoft\", \"Apple\", \"IBM\", \"Oracle\",\"Amazon\"]\n",
        "it_companies[0]=it_companies[0].upper()\n",
        "print(it_companies)"
      ],
      "metadata": {
        "colab": {
          "base_uri": "https://localhost:8080/"
        },
        "id": "ZjIMDTvj4KKY",
        "outputId": "d845135f-7e59-4fe9-b1d3-baf717bec2e3"
      },
      "execution_count": 17,
      "outputs": [
        {
          "output_type": "stream",
          "name": "stdout",
          "text": [
            "['FACEBOOK', 'Google', 'Microsoft', 'Apple', 'IBM', 'Oracle', 'Amazon']\n"
          ]
        }
      ]
    },
    {
      "cell_type": "code",
      "source": [
        "# 14. Join the it_companies with a string '#;  '\n",
        "\n",
        "it_companies=[\"Facebook\", \"Google\", \"Microsoft\"]\n",
        "string=\"#\"\n",
        "jo_company=string.join(it_companies)\n",
        "print(jo_company)\n",
        "\n",
        "#OR\n",
        "it_companies=[\"Facebook\", \"Google\", \"Microsoft\"]\n",
        "string=\"#\"\n",
        "company=it_companies+[string]\n",
        "print(company)"
      ],
      "metadata": {
        "colab": {
          "base_uri": "https://localhost:8080/"
        },
        "id": "xJdR5U8O4KHm",
        "outputId": "d3f2ab0e-3174-43a5-ddd3-3c4d6949c36c"
      },
      "execution_count": 18,
      "outputs": [
        {
          "output_type": "stream",
          "name": "stdout",
          "text": [
            "Facebook#Google#Microsoft\n",
            "['Facebook', 'Google', 'Microsoft', '#']\n"
          ]
        }
      ]
    },
    {
      "cell_type": "code",
      "source": [
        "# 15. Check if a certain company exists in the it_companies list.\n",
        "\n",
        "it_companies=[\"Facebook\", \"Google\", \"Microsoft\", \"Apple\", \"IBM\", \"Oracle\",\"Amazon\"]\n",
        "if \"IBM\" in  it_companies:\n",
        "  print(\"True\")\n",
        "else:\n",
        "  print(\"False\")"
      ],
      "metadata": {
        "colab": {
          "base_uri": "https://localhost:8080/"
        },
        "id": "KD4prsYo4KFL",
        "outputId": "5606f1b9-7b2e-4926-967d-cd9f30540ba5"
      },
      "execution_count": 19,
      "outputs": [
        {
          "output_type": "stream",
          "name": "stdout",
          "text": [
            "True\n"
          ]
        }
      ]
    },
    {
      "cell_type": "code",
      "source": [
        "# 16. Sort the list using sort() method\n",
        "it_companies=[\"Facebook\", \"Google\", \"Microsoft\", \"Apple\", \"IBM\", \"Oracle\",\"Amazon\"]\n",
        "it_companies.sort()\n",
        "print(it_companies)"
      ],
      "metadata": {
        "colab": {
          "base_uri": "https://localhost:8080/"
        },
        "id": "j7Rwp95T4KCe",
        "outputId": "d37162ec-d473-43df-e89b-d0dba19b444d"
      },
      "execution_count": 20,
      "outputs": [
        {
          "output_type": "stream",
          "name": "stdout",
          "text": [
            "['Amazon', 'Apple', 'Facebook', 'Google', 'IBM', 'Microsoft', 'Oracle']\n"
          ]
        }
      ]
    },
    {
      "cell_type": "code",
      "source": [
        "# 17. Reverse the list in descending order using reverse() method\n",
        "\n",
        "fruit=['banana', 'orange', 'mango', 'lemon','cherry','kiwi']\n",
        "fruit.sort()\n",
        "print(fruit)\n",
        "fruit.reverse()\n",
        "print()\n",
        "print(fruit)"
      ],
      "metadata": {
        "colab": {
          "base_uri": "https://localhost:8080/"
        },
        "id": "t9aXuadU4KAJ",
        "outputId": "caeb198e-384e-4a43-a0b2-41da2a197bb2"
      },
      "execution_count": 21,
      "outputs": [
        {
          "output_type": "stream",
          "name": "stdout",
          "text": [
            "['banana', 'cherry', 'kiwi', 'lemon', 'mango', 'orange']\n",
            "\n",
            "['orange', 'mango', 'lemon', 'kiwi', 'cherry', 'banana']\n"
          ]
        }
      ]
    },
    {
      "cell_type": "code",
      "source": [
        "# 18. Slice out the first 3 companies from the list\n",
        "it_companies=[\"Facebook\", \"Google\", \"Microsoft\", \"Apple\", \"IBM\", \"Oracle\",\"Amazon\"]\n",
        "print(\"Firts 3 companies are:\",it_companies[0:3])"
      ],
      "metadata": {
        "colab": {
          "base_uri": "https://localhost:8080/"
        },
        "id": "I2txf6py4J9m",
        "outputId": "e5cc8b5b-d296-4e3b-a7db-916ebec4fa3c"
      },
      "execution_count": 22,
      "outputs": [
        {
          "output_type": "stream",
          "name": "stdout",
          "text": [
            "Firts 3 companies are: ['Facebook', 'Google', 'Microsoft']\n"
          ]
        }
      ]
    },
    {
      "cell_type": "code",
      "source": [
        "# 19. Slice out the last 3 companies from the list\n",
        "it_companies=[\"Facebook\", \"Google\", \"Microsoft\", \"Apple\", \"IBM\", \"Oracle\",\"Amazon\"]\n",
        "print(\"last 3 companies are:\",it_companies[4:])"
      ],
      "metadata": {
        "colab": {
          "base_uri": "https://localhost:8080/"
        },
        "id": "Fy_IhPC54J7M",
        "outputId": "5eb223c4-1d9f-48d2-c505-1e4c4b37b2ce"
      },
      "execution_count": 23,
      "outputs": [
        {
          "output_type": "stream",
          "name": "stdout",
          "text": [
            "last 3 companies are: ['IBM', 'Oracle', 'Amazon']\n"
          ]
        }
      ]
    },
    {
      "cell_type": "code",
      "source": [
        "# 20. Slice out the middle IT company or companies from the list\n",
        "it_companies=[\"Facebook\", \"Google\", \"Microsoft\", \"Apple\", \"IBM\", \"Oracle\",\"Amazon\"]\n",
        "print(\"Middle companies are:\",it_companies[len(it_companies)//2])"
      ],
      "metadata": {
        "colab": {
          "base_uri": "https://localhost:8080/"
        },
        "id": "e3SCtXlD4J4z",
        "outputId": "a0212b01-b56c-42f1-81da-90f158525592"
      },
      "execution_count": 24,
      "outputs": [
        {
          "output_type": "stream",
          "name": "stdout",
          "text": [
            "Middle companies are: Apple\n"
          ]
        }
      ]
    },
    {
      "cell_type": "code",
      "source": [
        "# 21. Remove the first IT company from the list\n",
        "it_companies=[\"Facebook\", \"Google\", \"Microsoft\", \"Apple\", \"IBM\", \"Oracle\",\"Amazon\"]\n",
        "it_companies.pop(0)"
      ],
      "metadata": {
        "colab": {
          "base_uri": "https://localhost:8080/",
          "height": 36
        },
        "id": "od7y9Ls64J2c",
        "outputId": "b39710c8-9adc-4aba-df41-51c5ce016b19"
      },
      "execution_count": 25,
      "outputs": [
        {
          "output_type": "execute_result",
          "data": {
            "text/plain": [
              "'Facebook'"
            ],
            "application/vnd.google.colaboratory.intrinsic+json": {
              "type": "string"
            }
          },
          "metadata": {},
          "execution_count": 25
        }
      ]
    },
    {
      "cell_type": "code",
      "source": [
        "# 22. Remove the middle IT company or companies from the list\n",
        "\n",
        "it_companies=[\"Facebook\", \"Google\", \"Microsoft\", \"Apple\", \"IBM\", \"Oracle\",\"Amazon\"]\n",
        "it_companies.pop(len(it_companies)//2)\n"
      ],
      "metadata": {
        "colab": {
          "base_uri": "https://localhost:8080/",
          "height": 36
        },
        "id": "quw4Izh64Jz2",
        "outputId": "613689d8-7cec-4ef2-863c-f7d2aaac8c4d"
      },
      "execution_count": 26,
      "outputs": [
        {
          "output_type": "execute_result",
          "data": {
            "text/plain": [
              "'Apple'"
            ],
            "application/vnd.google.colaboratory.intrinsic+json": {
              "type": "string"
            }
          },
          "metadata": {},
          "execution_count": 26
        }
      ]
    },
    {
      "cell_type": "code",
      "source": [
        "# 23. Remove the last IT company from the list\n",
        "it_companies=[\"Facebook\", \"Google\", \"Microsoft\", \"Apple\", \"IBM\", \"Oracle\",\"Amazon\"]\n",
        "it_companies.pop(-1)\n"
      ],
      "metadata": {
        "colab": {
          "base_uri": "https://localhost:8080/",
          "height": 36
        },
        "id": "4EA2aAE14JxU",
        "outputId": "41e8bf07-246b-4eaf-a76f-a6778b58f0a9"
      },
      "execution_count": 27,
      "outputs": [
        {
          "output_type": "execute_result",
          "data": {
            "text/plain": [
              "'Amazon'"
            ],
            "application/vnd.google.colaboratory.intrinsic+json": {
              "type": "string"
            }
          },
          "metadata": {},
          "execution_count": 27
        }
      ]
    },
    {
      "cell_type": "code",
      "source": [
        "# 24. Remove all IT companies from the list\n",
        "it_companies=[\"Facebook\", \"Google\", \"Microsoft\", \"Apple\", \"IBM\", \"Oracle\",\"Amazon\"]\n",
        "it_companies.clear()\n",
        "print(it_companies)"
      ],
      "metadata": {
        "colab": {
          "base_uri": "https://localhost:8080/"
        },
        "id": "W0IVCIW54JvQ",
        "outputId": "cdfdf885-ab8a-4b24-c94c-ae69bd0da8b5"
      },
      "execution_count": 28,
      "outputs": [
        {
          "output_type": "stream",
          "name": "stdout",
          "text": [
            "[]\n"
          ]
        }
      ]
    },
    {
      "cell_type": "code",
      "source": [
        "# 25. Destroy the IT companies list\n",
        "it_companies=[\"Facebook\", \"Google\", \"Microsoft\", \"Apple\", \"IBM\", \"Oracle\",\"Amazon\"]\n",
        "del it_companies"
      ],
      "metadata": {
        "id": "a3hKd45F4Jst"
      },
      "execution_count": 29,
      "outputs": []
    },
    {
      "cell_type": "code",
      "source": [
        "# 26. Join the following lists:\n",
        "# front_end = ['HTML', 'CSS', 'JS', 'React', 'Redux']\n",
        "# back_end = ['Node','Express', 'MongoDB']\n",
        "\n",
        "front_end = ['HTML', 'CSS', 'JS', 'React', 'Redux']\n",
        "back_end = ['Node','Express', 'MongoDB']\n",
        "front_end.extend(back_end)\n",
        "print(front_end)\n",
        "\n",
        "#OR\n",
        "\n",
        "front_end = ['HTML', 'CSS', 'JS', 'React', 'Redux']\n",
        "back_end = ['Node','Express', 'MongoDB']\n",
        "i=front_end + back_end\n",
        "print(i)"
      ],
      "metadata": {
        "colab": {
          "base_uri": "https://localhost:8080/"
        },
        "id": "8xRLBxVD4JqD",
        "outputId": "c76d2e1e-4909-4ef0-8607-34cd87b19699"
      },
      "execution_count": 30,
      "outputs": [
        {
          "output_type": "stream",
          "name": "stdout",
          "text": [
            "['HTML', 'CSS', 'JS', 'React', 'Redux', 'Node', 'Express', 'MongoDB']\n",
            "['HTML', 'CSS', 'JS', 'React', 'Redux', 'Node', 'Express', 'MongoDB']\n"
          ]
        }
      ]
    },
    {
      "cell_type": "code",
      "source": [
        "# 27. After joining the lists in question 26. Copy the joined list and assign it to a\n",
        "# variable full_stack, then insert Python and SQL after Redux.\n",
        "\n",
        "full_stack=['HTML', 'CSS', 'JS', 'React', 'Redux','Node','Express', 'MongoDB']\n",
        "full_stack.insert(5,\"Python\")\n",
        "full_stack.insert(6,\"SQL\")\n",
        "print(full_stack)"
      ],
      "metadata": {
        "colab": {
          "base_uri": "https://localhost:8080/"
        },
        "id": "DuwopYP25VX9",
        "outputId": "31db17a9-20a7-4c2a-bb02-a11229fee0c6"
      },
      "execution_count": 31,
      "outputs": [
        {
          "output_type": "stream",
          "name": "stdout",
          "text": [
            "['HTML', 'CSS', 'JS', 'React', 'Redux', 'Python', 'SQL', 'Node', 'Express', 'MongoDB']\n"
          ]
        }
      ]
    },
    {
      "cell_type": "code",
      "source": [
        "#28. Sort the list and find the min and max age\n",
        "ages = [19, 22, 19, 24, 20, 25, 26, 24, 25, 24]\n",
        "ages.sort()\n",
        "print(\"sorted list are \",ages)\n",
        "print(\"Max age\",max(ages))\n",
        "print(\"MIN age\",min(ages))\n"
      ],
      "metadata": {
        "colab": {
          "base_uri": "https://localhost:8080/"
        },
        "id": "vfrCzl0d5VUi",
        "outputId": "5ff79cf9-4219-48a7-c9e4-e02453c520b8"
      },
      "execution_count": 32,
      "outputs": [
        {
          "output_type": "stream",
          "name": "stdout",
          "text": [
            "sorted list are  [19, 19, 20, 22, 24, 24, 24, 25, 25, 26]\n",
            "Max age 26\n",
            "MIN age 19\n"
          ]
        }
      ]
    },
    {
      "cell_type": "code",
      "source": [
        "#29. Add the min age and the max age again to the list\n",
        "ages.append(max(ages))\n",
        "ages.append(min(ages))\n",
        "print(ages)\n"
      ],
      "metadata": {
        "colab": {
          "base_uri": "https://localhost:8080/"
        },
        "id": "vq_4F7L85VSX",
        "outputId": "124d1e29-dd1a-4cb2-af7a-ed58f450d4d3"
      },
      "execution_count": 33,
      "outputs": [
        {
          "output_type": "stream",
          "name": "stdout",
          "text": [
            "[19, 19, 20, 22, 24, 24, 24, 25, 25, 26, 26, 19]\n"
          ]
        }
      ]
    },
    {
      "cell_type": "code",
      "source": [
        "#30. Find the median age (one middle item or two middle items divided by two)\n",
        "ages = [19, 22, 19, 24, 20, 25, 26, 24, 25, 24]\n",
        "ages.sort()\n",
        "n=len(ages)\n",
        "mid=n//2\n",
        "if n%2==0:\n",
        "  median=(ages[mid-1]+ages[mid])/2\n",
        "else:\n",
        "  median=ages[mid]\n",
        "print(median)"
      ],
      "metadata": {
        "colab": {
          "base_uri": "https://localhost:8080/"
        },
        "id": "GnWj3jf25VQI",
        "outputId": "48b78a5f-baaa-4fce-e68f-b1f2436cfb1a"
      },
      "execution_count": 34,
      "outputs": [
        {
          "output_type": "stream",
          "name": "stdout",
          "text": [
            "24.0\n"
          ]
        }
      ]
    },
    {
      "cell_type": "code",
      "source": [
        "#31. Find the average age (sum of all items divided by their number )\n",
        "\n",
        "ages = [19, 22, 19, 24, 20, 25, 26, 24, 25, 24]\n",
        "ages.sort()\n",
        "average_age=sum(ages)/len(ages)\n",
        "print(average_age)"
      ],
      "metadata": {
        "colab": {
          "base_uri": "https://localhost:8080/"
        },
        "id": "624eZs7c5VOZ",
        "outputId": "1dcf2293-5b3c-469e-cd1c-bd71438a5e32"
      },
      "execution_count": 35,
      "outputs": [
        {
          "output_type": "stream",
          "name": "stdout",
          "text": [
            "22.8\n"
          ]
        }
      ]
    },
    {
      "cell_type": "code",
      "source": [
        "#32. Find the range of the ages (max minus min)\n",
        "ages = [19, 22, 19, 24, 20, 25, 26, 24, 25, 24]\n",
        "ages.sort()\n",
        "range=max(ages)-min(ages)\n",
        "print(range)"
      ],
      "metadata": {
        "colab": {
          "base_uri": "https://localhost:8080/"
        },
        "id": "X1vUPIPL5VKr",
        "outputId": "08f334a3-6a31-4e57-ac9b-d942aefff108"
      },
      "execution_count": null,
      "outputs": [
        {
          "output_type": "stream",
          "name": "stdout",
          "text": [
            "7\n"
          ]
        }
      ]
    },
    {
      "cell_type": "code",
      "source": [
        "#33. Compare the value of (min - average) and (max - average), use abs() method\n",
        "ages = [19, 22, 19, 24, 20, 25, 26, 24, 25, 24]\n",
        "ages.sort()\n"
      ],
      "metadata": {
        "id": "cyuxX6kt5VIV"
      },
      "execution_count": 36,
      "outputs": []
    },
    {
      "cell_type": "code",
      "source": [
        "#34. Find the middle country(ies) in the countries list\n",
        "countries=['China', 'Russia', 'USA', 'Finland', 'Sweden', 'Norway', 'Denmark']\n",
        "n=len(countries)\n",
        "mid = n//2\n",
        "if n % 2 == 0:\n",
        "    middle = countries[mid - 1: mid + 1]\n",
        "else:\n",
        "    middle = [countries[mid]]\n",
        "print(\"Middle country(ies):\", middle)\n"
      ],
      "metadata": {
        "colab": {
          "base_uri": "https://localhost:8080/"
        },
        "id": "p0Z6zQS85VF3",
        "outputId": "46a47606-1c96-4d1e-cfc3-7169c46eac89"
      },
      "execution_count": 39,
      "outputs": [
        {
          "output_type": "stream",
          "name": "stdout",
          "text": [
            "Middle country(ies): ['Finland']\n"
          ]
        }
      ]
    },
    {
      "cell_type": "code",
      "source": [
        "#35. Divide the countries list into two equal lists if it is even if not one more country for the first half.\n",
        "countries=['China', 'Russia', 'USA', 'Finland', 'Sweden', 'Norway', 'Denmark']\n",
        "n=len(countries)\n",
        "if n % 2 == 0:\n",
        "    midpoint = n // 2\n",
        "else:\n",
        "    midpoint= (n // 2) + 1\n",
        "first_half=countries[:midpoint]\n",
        "second_half=countries[midpoint:]\n",
        "print(\"orginal list:\",countries)\n",
        "print(\"First half:\",first_half)\n",
        "print(\"Second half:\",second_half)"
      ],
      "metadata": {
        "colab": {
          "base_uri": "https://localhost:8080/"
        },
        "id": "7taa4IWU5VDM",
        "outputId": "1812879d-cef4-4ae1-f500-f48d4fc3db63"
      },
      "execution_count": 40,
      "outputs": [
        {
          "output_type": "stream",
          "name": "stdout",
          "text": [
            "orginal list: ['China', 'Russia', 'USA', 'Finland', 'Sweden', 'Norway', 'Denmark']\n",
            "First half: ['China', 'Russia', 'USA', 'Finland']\n",
            "Second half: ['Sweden', 'Norway', 'Denmark']\n"
          ]
        }
      ]
    },
    {
      "cell_type": "code",
      "source": [
        "#36. ['China', 'Russia', 'USA', 'Finland', 'Sweden', 'Norway', 'Denmark']. Unpack the\n",
        "# first three countries and the rest as scandic countries.\n",
        "\n",
        "countries=['China', 'Russia', 'USA', 'Finland', 'Sweden', 'Norway', 'Denmark']\n",
        "print(\"First country:\",countries[0])\n",
        "print(\"Second country:\",countries[1])\n",
        "print(\"Third country:\",countries[2])\n",
        "print(\"Scandic country:\",countries[3:])\n",
        "\n"
      ],
      "metadata": {
        "colab": {
          "base_uri": "https://localhost:8080/"
        },
        "id": "t0bL80UV5VBC",
        "outputId": "f163db2d-4363-4ee9-8ef4-98fa984681b3"
      },
      "execution_count": 41,
      "outputs": [
        {
          "output_type": "stream",
          "name": "stdout",
          "text": [
            "First country: China\n",
            "Second country: Russia\n",
            "Third country: USA\n",
            "Scandic country: ['Finland', 'Sweden', 'Norway', 'Denmark']\n"
          ]
        }
      ]
    },
    {
      "cell_type": "markdown",
      "source": [
        "# **Tuple Assigment**"
      ],
      "metadata": {
        "id": "LYa4-waYj3r0"
      }
    },
    {
      "cell_type": "code",
      "source": [
        "# 1. Create an empty tuple\n",
        "A=()"
      ],
      "metadata": {
        "id": "QIz1b4x4j683"
      },
      "execution_count": null,
      "outputs": []
    },
    {
      "cell_type": "code",
      "source": [
        "# 2. Create a tuple containing names of your sisters and your brothers (imaginary siblings are fine)\n",
        "\n",
        "sibling=('Messi','Ronaldo','Neymar','Mbappe','Haland','P.V sindhu')\n",
        "print(sibling)"
      ],
      "metadata": {
        "colab": {
          "base_uri": "https://localhost:8080/"
        },
        "id": "mHWqSCU-j8iS",
        "outputId": "3d3d854c-f5a3-4f0f-e6f8-d04111997270"
      },
      "execution_count": 43,
      "outputs": [
        {
          "output_type": "stream",
          "name": "stdout",
          "text": [
            "('Messi', 'Ronaldo', 'Neymar', 'Mbappe', 'Haland', 'P.V sindhu')\n"
          ]
        }
      ]
    },
    {
      "cell_type": "code",
      "source": [
        "# 3. Join brothers and sisters tuples and assign it to siblings\n",
        "brothers = ('Messi', 'Ronaldo', 'Neymar', 'Mbappe', 'Haland')  # Tuple of imaginary brothers\n",
        "sisters = ('P.V sindhu',)                                      # Tuple of one sister (note the comma to make it a tuple)\n",
        "siblings = brothers + sisters                                  # Combine both tuples\n",
        "print(siblings)                                                # Output the full siblings tuple"
      ],
      "metadata": {
        "colab": {
          "base_uri": "https://localhost:8080/"
        },
        "id": "7OwXxNeWj-bu",
        "outputId": "27a46ac2-44a6-4182-d467-82e005a56664"
      },
      "execution_count": 47,
      "outputs": [
        {
          "output_type": "stream",
          "name": "stdout",
          "text": [
            "('Messi', 'Ronaldo', 'Neymar', 'Mbappe', 'Haland', 'P.V sindhu')\n"
          ]
        }
      ]
    },
    {
      "cell_type": "code",
      "source": [
        "# 4. How many siblings do you have?\n",
        "len(siblings)"
      ],
      "metadata": {
        "colab": {
          "base_uri": "https://localhost:8080/"
        },
        "id": "ugM9ytdnkASq",
        "outputId": "9712dc0e-5362-4013-b7fd-7e29d0072d7a"
      },
      "execution_count": 48,
      "outputs": [
        {
          "output_type": "execute_result",
          "data": {
            "text/plain": [
              "6"
            ]
          },
          "metadata": {},
          "execution_count": 48
        }
      ]
    },
    {
      "cell_type": "code",
      "source": [
        "# 5. Modify the siblings tuple and add the name of your father and mother and assign it to family_members\n",
        "\n",
        "siblings = (\"Asif\", \"Amal\", \"Ayisha\", \"jobi\")\n",
        "parents = (\"Mathew\", \"Mariya\")\n",
        "family_members = siblings + parents\n",
        "print(family_members)\n"
      ],
      "metadata": {
        "colab": {
          "base_uri": "https://localhost:8080/"
        },
        "id": "p5Cs9rXOkB5A",
        "outputId": "2fd5a9e8-b7c0-4323-eeee-0d1b88609422"
      },
      "execution_count": 49,
      "outputs": [
        {
          "output_type": "stream",
          "name": "stdout",
          "text": [
            "('Asif', 'Amal', 'Ayisha', 'jobi', 'Mathew', 'Mariya')\n"
          ]
        }
      ]
    },
    {
      "cell_type": "code",
      "source": [
        "# 6. Unpack siblings and parents from family_members\n",
        "\n",
        "(a,b,c,d,p1,p2)=family_members\n",
        "print(\"Siblings:\",a,b,c,d)\n",
        "print(\"Parents:\",p1,p2)"
      ],
      "metadata": {
        "colab": {
          "base_uri": "https://localhost:8080/"
        },
        "id": "3spoL2pGkDi-",
        "outputId": "f755dcf1-bf71-4c5f-cab0-86b40cac6998"
      },
      "execution_count": 50,
      "outputs": [
        {
          "output_type": "stream",
          "name": "stdout",
          "text": [
            "Siblings: Asif Amal Ayisha jobi\n",
            "Parents: Mathew Mariya\n"
          ]
        }
      ]
    },
    {
      "cell_type": "code",
      "source": [
        "# 7. Create fruits, vegetables and animal products tuples. Join the three tuples and\n",
        "# assign it to a variable called food_stuff_tp.\n",
        "\n",
        "fruits=('Apple', 'Banana', 'Orange', 'Mango')\n",
        "vegetables=('Carrot', 'Potato', 'Onion', 'Tomato')\n",
        "animal_products=('milk','eggs','meat','honey')\n",
        "food_stuff_tp=fruits + vegetables + animal_products\n",
        "print(food_stuff_tp)"
      ],
      "metadata": {
        "colab": {
          "base_uri": "https://localhost:8080/"
        },
        "id": "vZP4jel5kFcH",
        "outputId": "33e1b9b1-2196-4ae2-f34e-fd7b14b04df4"
      },
      "execution_count": 51,
      "outputs": [
        {
          "output_type": "stream",
          "name": "stdout",
          "text": [
            "('Apple', 'Banana', 'Orange', 'Mango', 'Carrot', 'Potato', 'Onion', 'Tomato', 'milk', 'eggs', 'meat', 'honey')\n"
          ]
        }
      ]
    },
    {
      "cell_type": "code",
      "source": [
        "# 8. Change the about food_stuff_tp tuple to a food_stuff_lt list\n",
        "\n",
        "food_stuff_lt=list(food_stuff_tp)\n",
        "print(food_stuff_lt)"
      ],
      "metadata": {
        "colab": {
          "base_uri": "https://localhost:8080/"
        },
        "id": "95jn7HiikGuj",
        "outputId": "dd7f475b-7c15-449c-bf6f-665242c359e4"
      },
      "execution_count": 52,
      "outputs": [
        {
          "output_type": "stream",
          "name": "stdout",
          "text": [
            "['Apple', 'Banana', 'Orange', 'Mango', 'Carrot', 'Potato', 'Onion', 'Tomato', 'milk', 'eggs', 'meat', 'honey']\n"
          ]
        }
      ]
    },
    {
      "cell_type": "code",
      "source": [
        "# 9. Slice out the middle item or items from the food_stuff_tp tuple or food_stuff_lt list.\n",
        "food_stuff_lt=['Apple', 'Banana', 'Orange', 'Mango', 'Carrot', 'Potato', 'Onion', 'Tomato', 'milk', 'eggs', 'meat', 'honey']\n",
        "middle_item= food_stuff_lt[len(food_stuff_lt)//2 - 1 : len(food_stuff_lt)//2 + 1]\n",
        "print(\"Middle item :\", middle_item)\n"
      ],
      "metadata": {
        "colab": {
          "base_uri": "https://localhost:8080/"
        },
        "id": "d7OQrRoTkIY2",
        "outputId": "f7a9c079-95ed-4c39-f93d-7ba6673b1943"
      },
      "execution_count": 53,
      "outputs": [
        {
          "output_type": "stream",
          "name": "stdout",
          "text": [
            "Middle item : ['Potato', 'Onion']\n"
          ]
        }
      ]
    },
    {
      "cell_type": "code",
      "source": [
        "# 10.  Slice out the first three items and the last three items from food_staff_lt list\n",
        "\n",
        "food_stuff_lt=['Apple', 'Banana', 'Orange', 'Mango', 'Carrot', 'Potato', 'Onion', 'Tomato', 'milk', 'eggs', 'meat', 'honey']\n",
        "print(\"First 3 items :\",food_stuff_lt[0:3])\n",
        "print(\"last 3 items :\",food_stuff_lt[-3: ])"
      ],
      "metadata": {
        "colab": {
          "base_uri": "https://localhost:8080/"
        },
        "id": "fsHO-oGekJm6",
        "outputId": "7d85a16b-586e-40d1-e8a3-b010d33b4933"
      },
      "execution_count": 54,
      "outputs": [
        {
          "output_type": "stream",
          "name": "stdout",
          "text": [
            "First 3 items : ['Apple', 'Banana', 'Orange']\n",
            "last 3 items : ['eggs', 'meat', 'honey']\n"
          ]
        }
      ]
    },
    {
      "cell_type": "code",
      "source": [
        "# 11. Delete the food_staff_tp tuple completely\n",
        "food_stuff_tp=('Apple', 'Banana', 'Orange', 'Mango', 'Carrot', 'Potato', 'Onion', 'Tomato', 'milk', 'eggs', 'meat', 'honey')\n",
        "del food_stuff_tp\n"
      ],
      "metadata": {
        "id": "Suj4r5KkkM2J"
      },
      "execution_count": 55,
      "outputs": []
    },
    {
      "cell_type": "code",
      "source": [
        "# 12. Check if an item exists in tuple:\n",
        "# Check if 'Estonia' is a nordic country\n",
        "# Check if 'Iceland' is a nordic country\n",
        "# nordic_countries = ('Denmark', 'Finland','Iceland', 'Norway', 'Sweden')\n",
        "nordic_countries = ('Denmark', 'Finland','Iceland', 'Norway', 'Sweden')\n",
        "print(\"Estonia is a nordic country:\",'Estonia'  in nordic_countries)\n",
        "print(\"Iceland is a nordic country:\",'Iceland' in nordic_countries)\n",
        "\n",
        "#OR\n",
        "for country in ['Estonia', 'Iceland']:\n",
        "  if country in nordic_countries:\n",
        "    print(country,\"is in nordic country\")\n",
        "  else:\n",
        "    print(country, \"is not  in nordic country\")"
      ],
      "metadata": {
        "colab": {
          "base_uri": "https://localhost:8080/"
        },
        "id": "CElHxvSRkPDN",
        "outputId": "aa158979-bd1e-4d7c-ac98-7587ec136efb"
      },
      "execution_count": 56,
      "outputs": [
        {
          "output_type": "stream",
          "name": "stdout",
          "text": [
            "Estonia is a nordic country: False\n",
            "Iceland is a nordic country: True\n",
            "Estonia is not  in nordic country\n",
            "Iceland is in nordic country\n"
          ]
        }
      ]
    },
    {
      "cell_type": "markdown",
      "source": [
        "# **Set Assigment**"
      ],
      "metadata": {
        "id": "aHLf9tHRkUMq"
      }
    },
    {
      "cell_type": "code",
      "source": [
        "it_companies = {'Facebook', 'Google', 'Microsoft', 'Apple', 'IBM', 'Oracle', 'Amazon'}\n",
        "A = {19, 22, 24, 20, 25, 26}\n",
        "B = {19, 22, 20, 25, 26, 24, 28, 27}\n",
        "age = [22, 19, 24, 25, 26, 24, 25, 24]"
      ],
      "metadata": {
        "id": "lqqNh2CEkQ5y"
      },
      "execution_count": 57,
      "outputs": []
    },
    {
      "cell_type": "code",
      "source": [
        "# 1. Find the length of the set it_companies\n",
        "len(it_companies)"
      ],
      "metadata": {
        "colab": {
          "base_uri": "https://localhost:8080/"
        },
        "id": "iAIFUoKvkZXW",
        "outputId": "62e95e80-30d3-4284-d8fb-47d3fd90beeb"
      },
      "execution_count": 58,
      "outputs": [
        {
          "output_type": "execute_result",
          "data": {
            "text/plain": [
              "7"
            ]
          },
          "metadata": {},
          "execution_count": 58
        }
      ]
    },
    {
      "cell_type": "code",
      "source": [
        "# 2.Add 'Twitter' to it_companies\n",
        "it_companies = {'Facebook', 'Google', 'Microsoft', 'Apple', 'IBM', 'Oracle', 'Amazon'}\n",
        "it_companies.add('Twitter')\n",
        "print(it_companies)"
      ],
      "metadata": {
        "colab": {
          "base_uri": "https://localhost:8080/"
        },
        "id": "c9VbkDuNkaE-",
        "outputId": "3bcc6405-67a8-4a5a-fea6-5a9c185fe81d"
      },
      "execution_count": 59,
      "outputs": [
        {
          "output_type": "stream",
          "name": "stdout",
          "text": [
            "{'Apple', 'Facebook', 'Twitter', 'Oracle', 'IBM', 'Google', 'Amazon', 'Microsoft'}\n"
          ]
        }
      ]
    },
    {
      "cell_type": "code",
      "source": [
        "# 3. Insert multiple IT companies at once to the set it_companies\n",
        "it_companies.update(['Black Rock','Nvidia','MSI'])\n",
        "print(it_companies)"
      ],
      "metadata": {
        "colab": {
          "base_uri": "https://localhost:8080/"
        },
        "id": "rBiVKkpFkc95",
        "outputId": "0f4a865c-eeba-4f6d-c7c2-76d95006d870"
      },
      "execution_count": 60,
      "outputs": [
        {
          "output_type": "stream",
          "name": "stdout",
          "text": [
            "{'IBM', 'Amazon', 'Twitter', 'MSI', 'Facebook', 'Black Rock', 'Apple', 'Nvidia', 'Google', 'Microsoft', 'Oracle'}\n"
          ]
        }
      ]
    },
    {
      "cell_type": "code",
      "source": [
        "# 4. Remove one of the companies from the set it_companies\n",
        "it_companies.remove('Apple')\n",
        "print(it_companies)"
      ],
      "metadata": {
        "colab": {
          "base_uri": "https://localhost:8080/"
        },
        "id": "q2FSynZokeyi",
        "outputId": "9cee335a-fd88-473e-dc5a-6f43ec358c55"
      },
      "execution_count": 61,
      "outputs": [
        {
          "output_type": "stream",
          "name": "stdout",
          "text": [
            "{'IBM', 'Amazon', 'Twitter', 'MSI', 'Facebook', 'Black Rock', 'Nvidia', 'Google', 'Microsoft', 'Oracle'}\n"
          ]
        }
      ]
    },
    {
      "cell_type": "code",
      "source": [
        "# 5. What is the difference between remove and discard\n",
        "\n",
        "# remove() throws an error if the item is not found\n",
        "it_companies.remove('Apple')  # Will raise KeyError if 'Apple' is already removed\n",
        "print(it_companies)"
      ],
      "metadata": {
        "colab": {
          "base_uri": "https://localhost:8080/",
          "height": 211
        },
        "id": "oazbP1Pbkgx2",
        "outputId": "237b76b4-e839-43e4-88bd-800eee6c74c0"
      },
      "execution_count": 65,
      "outputs": [
        {
          "output_type": "error",
          "ename": "KeyError",
          "evalue": "'Apple'",
          "traceback": [
            "\u001b[0;31m---------------------------------------------------------------------------\u001b[0m",
            "\u001b[0;31mKeyError\u001b[0m                                  Traceback (most recent call last)",
            "\u001b[0;32m/tmp/ipython-input-115033218.py\u001b[0m in \u001b[0;36m<cell line: 0>\u001b[0;34m()\u001b[0m\n\u001b[1;32m      2\u001b[0m \u001b[0;34m\u001b[0m\u001b[0m\n\u001b[1;32m      3\u001b[0m \u001b[0;31m# remove() throws an error if the item is not found\u001b[0m\u001b[0;34m\u001b[0m\u001b[0;34m\u001b[0m\u001b[0m\n\u001b[0;32m----> 4\u001b[0;31m \u001b[0mit_companies\u001b[0m\u001b[0;34m.\u001b[0m\u001b[0mremove\u001b[0m\u001b[0;34m(\u001b[0m\u001b[0;34m'Apple'\u001b[0m\u001b[0;34m)\u001b[0m  \u001b[0;31m# Will raise KeyError if 'Apple' is already removed\u001b[0m\u001b[0;34m\u001b[0m\u001b[0;34m\u001b[0m\u001b[0m\n\u001b[0m\u001b[1;32m      5\u001b[0m \u001b[0mprint\u001b[0m\u001b[0;34m(\u001b[0m\u001b[0mit_companies\u001b[0m\u001b[0;34m)\u001b[0m\u001b[0;34m\u001b[0m\u001b[0;34m\u001b[0m\u001b[0m\n\u001b[1;32m      6\u001b[0m \u001b[0;34m\u001b[0m\u001b[0m\n",
            "\u001b[0;31mKeyError\u001b[0m: 'Apple'"
          ]
        }
      ]
    },
    {
      "cell_type": "code",
      "source": [
        "# discard() does nothing if the item is not found\n",
        "it_companies.discard('Apple')  # Safe to use even if 'Apple' is missing\n",
        "print(it_companies)\n"
      ],
      "metadata": {
        "colab": {
          "base_uri": "https://localhost:8080/"
        },
        "id": "l6DZdb7CE-vi",
        "outputId": "a8628b1f-5e49-4b62-c7f1-205b8ebe01d1"
      },
      "execution_count": 66,
      "outputs": [
        {
          "output_type": "stream",
          "name": "stdout",
          "text": [
            "{'Facebook', 'Oracle', 'IBM', 'Google', 'Amazon', 'Microsoft'}\n"
          ]
        }
      ]
    },
    {
      "cell_type": "code",
      "source": [
        "# 6. Join A and B\n",
        "A = {19, 22, 24, 20, 25, 26}\n",
        "B = {19, 22, 20, 25, 26, 24, 28, 27}\n",
        "C=A | B\n",
        "print(C)"
      ],
      "metadata": {
        "id": "9cAwZNVjksGn",
        "colab": {
          "base_uri": "https://localhost:8080/"
        },
        "outputId": "88342a9b-2832-41c4-9b91-55b0221fb02f"
      },
      "execution_count": 67,
      "outputs": [
        {
          "output_type": "stream",
          "name": "stdout",
          "text": [
            "{19, 20, 22, 24, 25, 26, 27, 28}\n"
          ]
        }
      ]
    },
    {
      "cell_type": "code",
      "source": [
        "# 7. Find A intersection B\n",
        "A & B"
      ],
      "metadata": {
        "id": "W13A0T1Kkv0A",
        "colab": {
          "base_uri": "https://localhost:8080/"
        },
        "outputId": "720f9faf-58a1-4125-e525-de7f03f4cf54"
      },
      "execution_count": 68,
      "outputs": [
        {
          "output_type": "execute_result",
          "data": {
            "text/plain": [
              "{19, 20, 22, 24, 25, 26}"
            ]
          },
          "metadata": {},
          "execution_count": 68
        }
      ]
    },
    {
      "cell_type": "code",
      "source": [
        "# 8. Is A subset of B\n",
        "print(A.issubset(B))\n"
      ],
      "metadata": {
        "id": "kNKgWdB0kxS6",
        "colab": {
          "base_uri": "https://localhost:8080/"
        },
        "outputId": "0f02db02-9411-4142-ab22-c3518f3e7ee0"
      },
      "execution_count": 69,
      "outputs": [
        {
          "output_type": "stream",
          "name": "stdout",
          "text": [
            "True\n"
          ]
        }
      ]
    },
    {
      "cell_type": "code",
      "source": [
        "# 9. Are A and B disjoint sets\n",
        "print(A.isdisjoint(B))"
      ],
      "metadata": {
        "id": "POSiuC5rkzQy",
        "colab": {
          "base_uri": "https://localhost:8080/"
        },
        "outputId": "15fdf7ea-0756-4e34-b2bb-1dcbb5b10936"
      },
      "execution_count": 70,
      "outputs": [
        {
          "output_type": "stream",
          "name": "stdout",
          "text": [
            "False\n"
          ]
        }
      ]
    },
    {
      "cell_type": "code",
      "source": [
        "# 10. Join A with B and B with A\n",
        "A = {19, 22, 24, 20, 25, 26}\n",
        "B = {19, 22, 20, 25, 26, 24, 28, 27}\n",
        "C=A | B\n",
        "D=(B.union(A))\n",
        "print(C)\n",
        "print(D)"
      ],
      "metadata": {
        "id": "zOIrE-O7k1J4",
        "colab": {
          "base_uri": "https://localhost:8080/"
        },
        "outputId": "99aa011b-5949-4697-a1cf-d281fe7efc57"
      },
      "execution_count": 71,
      "outputs": [
        {
          "output_type": "stream",
          "name": "stdout",
          "text": [
            "{19, 20, 22, 24, 25, 26, 27, 28}\n",
            "{19, 20, 22, 24, 25, 26, 27, 28}\n"
          ]
        }
      ]
    },
    {
      "cell_type": "code",
      "source": [
        "# 11. What is the symmetric difference between A and B\n",
        "print(A.symmetric_difference(B))"
      ],
      "metadata": {
        "id": "uLPRvQe-k28m",
        "colab": {
          "base_uri": "https://localhost:8080/"
        },
        "outputId": "1419ec57-51a0-4403-bc03-d2aa107de134"
      },
      "execution_count": 72,
      "outputs": [
        {
          "output_type": "stream",
          "name": "stdout",
          "text": [
            "{27, 28}\n"
          ]
        }
      ]
    },
    {
      "cell_type": "code",
      "source": [
        " # 12. Delete the sets completely\n",
        " del A\n",
        " del B"
      ],
      "metadata": {
        "id": "cFoJmHQzk5On",
        "colab": {
          "base_uri": "https://localhost:8080/",
          "height": 176
        },
        "outputId": "b866b6e3-79e5-47c5-c6d5-7f40cc2fe4a9"
      },
      "execution_count": 75,
      "outputs": [
        {
          "output_type": "error",
          "ename": "NameError",
          "evalue": "name 'A' is not defined",
          "traceback": [
            "\u001b[0;31m---------------------------------------------------------------------------\u001b[0m",
            "\u001b[0;31mNameError\u001b[0m                                 Traceback (most recent call last)",
            "\u001b[0;32m/tmp/ipython-input-3304747460.py\u001b[0m in \u001b[0;36m<cell line: 0>\u001b[0;34m()\u001b[0m\n\u001b[1;32m      1\u001b[0m \u001b[0;31m# 12. Delete the sets completely\u001b[0m\u001b[0;34m\u001b[0m\u001b[0;34m\u001b[0m\u001b[0m\n\u001b[0;32m----> 2\u001b[0;31m \u001b[0;32mdel\u001b[0m \u001b[0mA\u001b[0m\u001b[0;34m\u001b[0m\u001b[0;34m\u001b[0m\u001b[0m\n\u001b[0m\u001b[1;32m      3\u001b[0m \u001b[0;32mdel\u001b[0m \u001b[0mB\u001b[0m\u001b[0;34m\u001b[0m\u001b[0;34m\u001b[0m\u001b[0m\n",
            "\u001b[0;31mNameError\u001b[0m: name 'A' is not defined"
          ]
        }
      ]
    },
    {
      "cell_type": "code",
      "source": [
        "# 13. Convert the ages to a set and compare the length of the list and the set, which one is bigger?\n",
        "ages = [22, 19, 24, 25, 26, 24, 25, 24]\n",
        "age = set(ages)\n",
        "print(age)\n",
        "length_list=len(ages)\n",
        "length_set=len(age)\n",
        "if length_list > length_set:\n",
        "  print(\"List is bigger\",length_list)\n",
        "elif length_list < length_set:\n",
        "  print(\"Set is bigger:\",length_set)\n",
        "else:\n",
        "  print(\"both are equal\",length_list)\n"
      ],
      "metadata": {
        "colab": {
          "base_uri": "https://localhost:8080/"
        },
        "id": "ree7zquAk7f-",
        "outputId": "c2e22230-bd5d-4227-8975-b77a2ec20b92"
      },
      "execution_count": 76,
      "outputs": [
        {
          "output_type": "stream",
          "name": "stdout",
          "text": [
            "{19, 22, 24, 25, 26}\n",
            "List is bigger 8\n"
          ]
        }
      ]
    },
    {
      "cell_type": "code",
      "source": [
        "# 14. \"I am a teacher and I love to inspire and teach people.\"\n",
        "# How many unique words have been used in the sentence? Use the split methods and set to get the unique words.\n",
        "sentences=\"I am a teacher and I love to inspire and teach people.\"\n",
        "words=sentences.split()\n",
        "length=len(words)\n",
        "unique=set(words)\n",
        "print(unique)\n",
        "print(words)\n"
      ],
      "metadata": {
        "colab": {
          "base_uri": "https://localhost:8080/"
        },
        "id": "Ydmq_5y8k-sM",
        "outputId": "1b66fa3b-720c-4f34-9511-8b4e8edff2c4"
      },
      "execution_count": 77,
      "outputs": [
        {
          "output_type": "stream",
          "name": "stdout",
          "text": [
            "{'am', 'teach', 'love', 'teacher', 'to', 'people.', 'and', 'inspire', 'I', 'a'}\n",
            "['I', 'am', 'a', 'teacher', 'and', 'I', 'love', 'to', 'inspire', 'and', 'teach', 'people.']\n"
          ]
        }
      ]
    },
    {
      "cell_type": "code",
      "source": [
        "# 15. Explain the difference between the following data types: string, list, tuple and set\n",
        "\n",
        "# String :- are immutable,can't change a character after creation\n",
        "s = \"Hello\"\n",
        "print(s)\n",
        "print(s[1])\n",
        "\n",
        "# List :-are mutable ,we can modify, append, and delete elements and also allows duplicates\n",
        "l = [1, 2, 3]\n",
        "l.append(4)\n",
        "print(l)\n",
        "\n",
        "# Tuple :- Immutable sequence, allows duplicates\n",
        "t = (1, 2, 3)\n",
        "print(t[0])\n",
        "\n",
        "# Set :- Unordered collection of unique items ,duplicates are removed\n",
        "set_companies = {\"Google\", \"Apple\", \"Microsoft\"}\n",
        "set_companies.add(\"Amazon\")\n",
        "print(set_companies)\n"
      ],
      "metadata": {
        "colab": {
          "base_uri": "https://localhost:8080/"
        },
        "id": "V9dYF_LylEec",
        "outputId": "96f89cfa-593b-40ec-a5bb-75f631df3d89"
      },
      "execution_count": 78,
      "outputs": [
        {
          "output_type": "stream",
          "name": "stdout",
          "text": [
            "Hello\n",
            "e\n",
            "[1, 2, 3, 4]\n",
            "1\n",
            "{'Google', 'Amazon', 'Apple', 'Microsoft'}\n"
          ]
        }
      ]
    },
    {
      "cell_type": "markdown",
      "source": [
        "#**Dictionaries - Exercises**"
      ],
      "metadata": {
        "id": "pSqZlFXBlHfG"
      }
    },
    {
      "cell_type": "code",
      "source": [
        "# 1. Create an empty dictionary called dogs\n",
        "dogs = {}  # Creates an empty dictionary named 'dogs'"
      ],
      "metadata": {
        "id": "h83L0FUZlLNN"
      },
      "execution_count": null,
      "outputs": []
    },
    {
      "cell_type": "code",
      "source": [
        "# 2. Add name, color, breed, legs, age to the dog dictionary\n",
        "dogs={\n",
        "    \"name\": \"Tom\",\n",
        "    \"age\": 5,\n",
        "    \"breed\": \"German\",\n",
        "    \"color\": \"Brown\",\n",
        "    \"legs\": 4\n",
        "}\n",
        "print(dogs)"
      ],
      "metadata": {
        "colab": {
          "base_uri": "https://localhost:8080/"
        },
        "id": "EjZgP3ZFlNOw",
        "outputId": "df48982f-d4d5-43e1-e222-676ffa789376"
      },
      "execution_count": 79,
      "outputs": [
        {
          "output_type": "stream",
          "name": "stdout",
          "text": [
            "{'name': 'Tom', 'age': 5, 'breed': 'German', 'color': 'Brown', 'legs': 4}\n"
          ]
        }
      ]
    },
    {
      "cell_type": "code",
      "source": [
        "# 3. Create a student dictionary and add first_name, last_name, gender, age,\n",
        "    # marital status, skills, country, city and address as keys for the dictionary\n",
        "\n",
        "student=dict(first_name = 'Cristiano',\n",
        "              last_name = 'Ronaldo',\n",
        "              gender = 'Male',\n",
        "              age = '41',\n",
        "              marital_status = 'Engaged',\n",
        "              skills = ['Problem solving'],\n",
        "              country = 'Portugal',\n",
        "              city = 'Portugal',\n",
        "              address = \"123, Portugal\")\n",
        "print(student)"
      ],
      "metadata": {
        "colab": {
          "base_uri": "https://localhost:8080/"
        },
        "id": "UP_hBQaSlO5O",
        "outputId": "de704509-a552-442b-dbaa-1fd1ca52b5b6"
      },
      "execution_count": 80,
      "outputs": [
        {
          "output_type": "stream",
          "name": "stdout",
          "text": [
            "{'first_name': 'Cristiano', 'last_name': 'Ronaldo', 'gender': 'Male', 'age': '41', 'marital_status': 'Engaged', 'skills': ['Problem solving'], 'country': 'Portugal', 'city': 'Portugal', 'address': '123, Portugal'}\n"
          ]
        }
      ]
    },
    {
      "cell_type": "code",
      "source": [
        "# 4. Get the length of the student dictionary\n",
        "len(student)"
      ],
      "metadata": {
        "colab": {
          "base_uri": "https://localhost:8080/"
        },
        "id": "iQYPsLs6lQOx",
        "outputId": "ad95ed6b-e961-4837-d0d1-d7d56aa66f01"
      },
      "execution_count": 81,
      "outputs": [
        {
          "output_type": "execute_result",
          "data": {
            "text/plain": [
              "9"
            ]
          },
          "metadata": {},
          "execution_count": 81
        }
      ]
    },
    {
      "cell_type": "code",
      "source": [
        "# 5. Get the value of skills and check the data type, it should be a list\n",
        "print(student.get(\"skills\"))\n",
        "print(type(student['skills']))"
      ],
      "metadata": {
        "colab": {
          "base_uri": "https://localhost:8080/"
        },
        "id": "70vI9dWFlSWO",
        "outputId": "0eb64892-a952-44f4-a1f1-f1475a7ad787"
      },
      "execution_count": 82,
      "outputs": [
        {
          "output_type": "stream",
          "name": "stdout",
          "text": [
            "['Problem solving']\n",
            "<class 'list'>\n"
          ]
        }
      ]
    },
    {
      "cell_type": "code",
      "source": [
        "# 6. Modify the skills values by adding one or two skills\n",
        "student.get(\"skills\")\n",
        "student['skills'].extend([\"Time management\",\"Communication\"])\n",
        "print(student)"
      ],
      "metadata": {
        "colab": {
          "base_uri": "https://localhost:8080/"
        },
        "id": "MWfkXDQ4lTpf",
        "outputId": "7f155850-4631-4b30-914e-f4e4dc643860"
      },
      "execution_count": 83,
      "outputs": [
        {
          "output_type": "stream",
          "name": "stdout",
          "text": [
            "{'first_name': 'Cristiano', 'last_name': 'Ronaldo', 'gender': 'Male', 'age': '41', 'marital_status': 'Engaged', 'skills': ['Problem solving', 'Time management', 'Communication'], 'country': 'Portugal', 'city': 'Portugal', 'address': '123, Portugal'}\n"
          ]
        }
      ]
    },
    {
      "cell_type": "code",
      "source": [
        "# 7. Get the dictionary keys as a list\n",
        "keys_list = list(student.keys())\n",
        "print(keys_list)"
      ],
      "metadata": {
        "colab": {
          "base_uri": "https://localhost:8080/"
        },
        "id": "ySX6aaQFlVWk",
        "outputId": "550dd2a5-0526-49d4-8d8a-0814725a2bf1"
      },
      "execution_count": 84,
      "outputs": [
        {
          "output_type": "stream",
          "name": "stdout",
          "text": [
            "['first_name', 'last_name', 'gender', 'age', 'marital_status', 'skills', 'country', 'city', 'address']\n"
          ]
        }
      ]
    },
    {
      "cell_type": "code",
      "source": [
        "# 8. Get the dictionary values as a list\n",
        "print(list(student.values()))"
      ],
      "metadata": {
        "colab": {
          "base_uri": "https://localhost:8080/"
        },
        "id": "F_yKAJTOltfh",
        "outputId": "4d6edf11-fea8-4931-c92b-f5c1f7a187fc"
      },
      "execution_count": 85,
      "outputs": [
        {
          "output_type": "stream",
          "name": "stdout",
          "text": [
            "['Cristiano', 'Ronaldo', 'Male', '41', 'Engaged', ['Problem solving', 'Time management', 'Communication'], 'Portugal', 'Portugal', '123, Portugal']\n"
          ]
        }
      ]
    },
    {
      "cell_type": "code",
      "source": [
        "# 9. Change the dictionary to a list of tuples using items() method\n",
        "students=list(student.items())\n",
        "print(students)"
      ],
      "metadata": {
        "colab": {
          "base_uri": "https://localhost:8080/"
        },
        "id": "P7IQrLDGlvCR",
        "outputId": "76da6839-8835-4830-f78a-8b2d0fd07d77"
      },
      "execution_count": 86,
      "outputs": [
        {
          "output_type": "stream",
          "name": "stdout",
          "text": [
            "[('first_name', 'Cristiano'), ('last_name', 'Ronaldo'), ('gender', 'Male'), ('age', '41'), ('marital_status', 'Engaged'), ('skills', ['Problem solving', 'Time management', 'Communication']), ('country', 'Portugal'), ('city', 'Portugal'), ('address', '123, Portugal')]\n"
          ]
        }
      ]
    },
    {
      "cell_type": "code",
      "source": [
        "# 10. Delete one of the items in the dictionary\n",
        "student.pop('age')\n",
        "print(student)"
      ],
      "metadata": {
        "colab": {
          "base_uri": "https://localhost:8080/"
        },
        "id": "-cfQbwX7lwW8",
        "outputId": "5e5b2d76-eb60-4c4f-fc95-02056073e3b7"
      },
      "execution_count": 87,
      "outputs": [
        {
          "output_type": "stream",
          "name": "stdout",
          "text": [
            "{'first_name': 'Cristiano', 'last_name': 'Ronaldo', 'gender': 'Male', 'marital_status': 'Engaged', 'skills': ['Problem solving', 'Time management', 'Communication'], 'country': 'Portugal', 'city': 'Portugal', 'address': '123, Portugal'}\n"
          ]
        }
      ]
    },
    {
      "cell_type": "code",
      "source": [
        "# 11. Delete one of the dictionaries\n",
        "del student['marital_status']\n",
        "print(student)"
      ],
      "metadata": {
        "colab": {
          "base_uri": "https://localhost:8080/"
        },
        "id": "hc_8ckuqlyOG",
        "outputId": "60c63243-9e12-4f9e-eb67-c864e85270e5"
      },
      "execution_count": 88,
      "outputs": [
        {
          "output_type": "stream",
          "name": "stdout",
          "text": [
            "{'first_name': 'Cristiano', 'last_name': 'Ronaldo', 'gender': 'Male', 'skills': ['Problem solving', 'Time management', 'Communication'], 'country': 'Portugal', 'city': 'Portugal', 'address': '123, Portugal'}\n"
          ]
        }
      ]
    }
  ]
}