{
  "nbformat": 4,
  "nbformat_minor": 0,
  "metadata": {
    "colab": {
      "provenance": []
    },
    "kernelspec": {
      "name": "python3",
      "display_name": "Python 3"
    },
    "language_info": {
      "name": "python"
    }
  },
  "cells": [
    {
      "cell_type": "markdown",
      "source": [
        "# Control & Loop Basic Exercise"
      ],
      "metadata": {
        "id": "AFkc87uX5Zch"
      }
    },
    {
      "cell_type": "code",
      "execution_count": 1,
      "metadata": {
        "colab": {
          "base_uri": "https://localhost:8080/"
        },
        "id": "0qqWFmnH3hdA",
        "outputId": "c1212d53-8c58-45dc-8f93-77c47542765f"
      },
      "outputs": [
        {
          "output_type": "stream",
          "name": "stdout",
          "text": [
            "10\n",
            "9\n",
            "8\n",
            "7\n",
            "6\n",
            "5\n",
            "4\n",
            "3\n",
            "2\n",
            "1\n",
            "0\n",
            "10\n",
            "9\n",
            "8\n",
            "7\n",
            "6\n",
            "5\n",
            "4\n",
            "3\n",
            "2\n",
            "1\n",
            "0\n"
          ]
        }
      ],
      "source": [
        "#1. Iterate 10 to 0 using for loop, do the same using while loop\n",
        "\n",
        "# Using for loop\n",
        "for i in range(10, -1, -1):     # Starts at 10, ends at 0 (inclusive), steps down by 1\n",
        "    print(i)\n",
        "\n",
        "# Using while loop\n",
        "i = 10                          # Initialize counter\n",
        "while i >= 0:                   # Loop until i reaches 0\n",
        "    print(i)\n",
        "    i -= 1                      # Decrease i by 1 each time"
      ]
    },
    {
      "cell_type": "code",
      "source": [
        "#2.Write a loop that makes seven calls to print(), so we get on the output the following triangle:\n",
        "  #\n",
        "  ##\n",
        "  ###\n",
        "  ####\n",
        "  #####\n",
        "  ######\n",
        "  #######\n",
        "for i in range(1, 8):           # Loop from 1 to 7\n",
        "    print(\"#\" * i)              # Print i number of '#' characters"
      ],
      "metadata": {
        "colab": {
          "base_uri": "https://localhost:8080/"
        },
        "id": "qbIWWQry5E95",
        "outputId": "8dedb65b-ce1d-4ec1-9abc-63194b2554af"
      },
      "execution_count": 2,
      "outputs": [
        {
          "output_type": "stream",
          "name": "stdout",
          "text": [
            "#\n",
            "##\n",
            "###\n",
            "####\n",
            "#####\n",
            "######\n",
            "#######\n"
          ]
        }
      ]
    },
    {
      "cell_type": "code",
      "source": [
        "#3.Print the following pattern:\n",
        "#0 x 0 = 0\n",
        "#1 x 1 = 1\n",
        "#2 x 2 = 4\n",
        "#3 x 3 = 9\n",
        "#4 x 4 = 16\n",
        "#5 x 5 = 25\n",
        "#6 x 6 = 36\n",
        "#7 x 7 = 49\n",
        "#8 x 8 = 64\n",
        "#9 x 9 = 81\n",
        "#10 x 10 = 100\n",
        "for i in range(11):             # Loop from 0 to 10\n",
        "    result = i * i              # Multiply i by itself\n",
        "    print(i, \"x\", i, \"=\", result)  # Display formatted result"
      ],
      "metadata": {
        "colab": {
          "base_uri": "https://localhost:8080/"
        },
        "id": "ZHC6Wlf15Jxj",
        "outputId": "58e7b3e9-80a1-446d-96cd-6ec876d2ac74"
      },
      "execution_count": 3,
      "outputs": [
        {
          "output_type": "stream",
          "name": "stdout",
          "text": [
            "0 x 0 = 0\n",
            "1 x 1 = 1\n",
            "2 x 2 = 4\n",
            "3 x 3 = 9\n",
            "4 x 4 = 16\n",
            "5 x 5 = 25\n",
            "6 x 6 = 36\n",
            "7 x 7 = 49\n",
            "8 x 8 = 64\n",
            "9 x 9 = 81\n",
            "10 x 10 = 100\n"
          ]
        }
      ]
    },
    {
      "cell_type": "code",
      "source": [
        "#4. Use for loop to iterate from 0 to 100 and print only even numbers\n",
        "for i in range(0, 101):         # Loop from 0 to 100\n",
        "    if i % 2 == 0:              # Check if number is even\n",
        "        print(i)"
      ],
      "metadata": {
        "colab": {
          "base_uri": "https://localhost:8080/"
        },
        "id": "aNfJEIqH5Lt2",
        "outputId": "1bc02b24-7527-4b21-e8b4-3120f74b6e8b"
      },
      "execution_count": 4,
      "outputs": [
        {
          "output_type": "stream",
          "name": "stdout",
          "text": [
            "0\n",
            "2\n",
            "4\n",
            "6\n",
            "8\n",
            "10\n",
            "12\n",
            "14\n",
            "16\n",
            "18\n",
            "20\n",
            "22\n",
            "24\n",
            "26\n",
            "28\n",
            "30\n",
            "32\n",
            "34\n",
            "36\n",
            "38\n",
            "40\n",
            "42\n",
            "44\n",
            "46\n",
            "48\n",
            "50\n",
            "52\n",
            "54\n",
            "56\n",
            "58\n",
            "60\n",
            "62\n",
            "64\n",
            "66\n",
            "68\n",
            "70\n",
            "72\n",
            "74\n",
            "76\n",
            "78\n",
            "80\n",
            "82\n",
            "84\n",
            "86\n",
            "88\n",
            "90\n",
            "92\n",
            "94\n",
            "96\n",
            "98\n",
            "100\n"
          ]
        }
      ]
    },
    {
      "cell_type": "code",
      "source": [
        "#6. Use for loop to iterate from 0 to 100 and print only odd numbers\n",
        "for i in range(0, 101):         # Loop from 0 to 100\n",
        "    if i % 2 == 1:              # Check if number is odd\n",
        "        print(i)"
      ],
      "metadata": {
        "colab": {
          "base_uri": "https://localhost:8080/"
        },
        "id": "iebJTH_B5NWX",
        "outputId": "3ee66de9-5637-499f-f70e-db5e167fed30"
      },
      "execution_count": 5,
      "outputs": [
        {
          "output_type": "stream",
          "name": "stdout",
          "text": [
            "1\n",
            "3\n",
            "5\n",
            "7\n",
            "9\n",
            "11\n",
            "13\n",
            "15\n",
            "17\n",
            "19\n",
            "21\n",
            "23\n",
            "25\n",
            "27\n",
            "29\n",
            "31\n",
            "33\n",
            "35\n",
            "37\n",
            "39\n",
            "41\n",
            "43\n",
            "45\n",
            "47\n",
            "49\n",
            "51\n",
            "53\n",
            "55\n",
            "57\n",
            "59\n",
            "61\n",
            "63\n",
            "65\n",
            "67\n",
            "69\n",
            "71\n",
            "73\n",
            "75\n",
            "77\n",
            "79\n",
            "81\n",
            "83\n",
            "85\n",
            "87\n",
            "89\n",
            "91\n",
            "93\n",
            "95\n",
            "97\n",
            "99\n"
          ]
        }
      ]
    },
    {
      "cell_type": "code",
      "source": [
        "#7. Use for loop to iterate from 0 to 100 and print the sum of all numbers.\n",
        "# The sum of all numbers is 5050.\n",
        "sum = 0                        # Initialize sum\n",
        "for i in range(101):           # Loop from 0 to 100\n",
        "    sum += i                   # Add current number to sum\n",
        "print(\"The sum of all numbers is\", sum)  # Output: 5050"
      ],
      "metadata": {
        "colab": {
          "base_uri": "https://localhost:8080/"
        },
        "id": "Y7e5Xgw95PPA",
        "outputId": "8d3db478-3414-43ab-c677-bc9ecbc9c8c8"
      },
      "execution_count": 6,
      "outputs": [
        {
          "output_type": "stream",
          "name": "stdout",
          "text": [
            "The sum of all numbers is 5050\n"
          ]
        }
      ]
    },
    {
      "cell_type": "code",
      "source": [
        "#8.Use for loop to iterate from 0 to 100 and print the sum of all evens and the\n",
        "#sum of all odds.\n",
        "even = 0                       # Sum of even numbers\n",
        "odd = 0                        # Sum of odd numbers\n",
        "\n",
        "for i in range(101):           # Loop from 0 to 100\n",
        "    if i % 2 == 0:\n",
        "        even += i              # Add to even sum\n",
        "    else:\n",
        "        odd += i               # Add to odd sum\n",
        "\n",
        "print(\"Sum of even:\", even)    # Output: 2550\n",
        "print(\"Sum of odd:\", odd)      # Output: 2500"
      ],
      "metadata": {
        "colab": {
          "base_uri": "https://localhost:8080/"
        },
        "id": "ZnaGOqYW5Rdd",
        "outputId": "41c7035e-7e62-41d0-ac9e-f2178049d8f4"
      },
      "execution_count": 7,
      "outputs": [
        {
          "output_type": "stream",
          "name": "stdout",
          "text": [
            "Sum of even: 2550\n",
            "Sum of odd: 2500\n"
          ]
        }
      ]
    },
    {
      "cell_type": "code",
      "source": [
        "#9. This is a fruit list, ['banana', 'orange', 'mango', 'lemon'] reverse the order using loop\n",
        "fruit = ['banana', 'orange', 'mango', 'lemon']  # Original list\n",
        "reversed_list = []                              # Empty list to store reversed items\n",
        "\n",
        "for i in range(len(fruit) - 1, -1, -1):          # Loop from last index to first\n",
        "    reversed_list.append(fruit[i])              # Append items in reverse order\n",
        "\n",
        "print(reversed_list)                            # Output: ['lemon', 'mango', 'orange', 'banana']"
      ],
      "metadata": {
        "colab": {
          "base_uri": "https://localhost:8080/"
        },
        "id": "fw5WwFyT5TZ1",
        "outputId": "df4b026c-b4f4-44a9-9701-27f97cdc0c69"
      },
      "execution_count": 8,
      "outputs": [
        {
          "output_type": "stream",
          "name": "stdout",
          "text": [
            "['lemon', 'mango', 'orange', 'banana']\n"
          ]
        }
      ]
    },
    {
      "cell_type": "code",
      "source": [
        "#10.Iterate through the list, ['Python', 'Numpy','Pandas','Django', 'Flask'] using a for\n",
        "#loop and print out the items.\n",
        "li = ['Python', 'Numpy', 'Pandas', 'Django', 'Flask']  # List of technologies\n",
        "\n",
        "for i in li:                                           # Loop through each item\n",
        "    print(i)                                           # Print the item"
      ],
      "metadata": {
        "colab": {
          "base_uri": "https://localhost:8080/"
        },
        "id": "O2OcKaAN5XuU",
        "outputId": "9a7f559d-677a-4b08-c73c-01bd3e6bd087"
      },
      "execution_count": 9,
      "outputs": [
        {
          "output_type": "stream",
          "name": "stdout",
          "text": [
            "Python\n",
            "Numpy\n",
            "Pandas\n",
            "Django\n",
            "Flask\n"
          ]
        }
      ]
    }
  ]
}