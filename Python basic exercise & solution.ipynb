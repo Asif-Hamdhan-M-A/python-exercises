{
  "nbformat": 4,
  "nbformat_minor": 0,
  "metadata": {
    "colab": {
      "provenance": []
    },
    "kernelspec": {
      "name": "python3",
      "display_name": "Python 3"
    },
    "language_info": {
      "name": "python"
    }
  },
  "cells": [
    {
      "cell_type": "markdown",
      "source": [
        "# **PYTHON BASIC EXERCISES**"
      ],
      "metadata": {
        "id": "1iPPt1xiuMH6"
      }
    },
    {
      "cell_type": "code",
      "execution_count": null,
      "metadata": {
        "colab": {
          "base_uri": "https://localhost:8080/"
        },
        "id": "4wivv8zduIyL",
        "outputId": "70dd769e-c1be-4c9b-d160-efcaf1de3d23"
      },
      "outputs": [
        {
          "output_type": "stream",
          "name": "stdout",
          "text": [
            "<class 'complex'>\n"
          ]
        }
      ],
      "source": [
        "#1. Check the data type of 4 - 4j\n",
        "x = 4 - 4j        # Creates a complex number with real part 4 and imaginary part -4j\n",
        "print(type(x))    # Displays the data type of x, which will be <class 'complex'>"
      ]
    },
    {
      "cell_type": "code",
      "source": [
        "#2. Find an Euclidian distance between (2, 3) and (10, 8)\n",
        "import math  # Importing the math module to use the sqrt (square root) function\n",
        "\n",
        "x1 = 2       # x-coordinate of the first point\n",
        "y1 = 3       # y-coordinate of the first point\n",
        "x2 = 10      # x-coordinate of the second point\n",
        "y2 = 8       # y-coordinate of the second point\n",
        "\n",
        "# Applying the Euclidean distance formula: √[(x2 - x1)² + (y2 - y1)²]\n",
        "eu = math.sqrt((x2 - x1)**2 + (y2 - y1)**2)  # Calculates the distance\n",
        "\n",
        "print(round(eu, 2))  # Prints the result rounded to 2 decimal places"
      ],
      "metadata": {
        "colab": {
          "base_uri": "https://localhost:8080/"
        },
        "id": "UsNIbE-wuyEC",
        "outputId": "9cb991f1-e8ad-44b0-e301-94ccd183e316"
      },
      "execution_count": null,
      "outputs": [
        {
          "output_type": "stream",
          "name": "stdout",
          "text": [
            "9.43\n"
          ]
        }
      ]
    },
    {
      "cell_type": "code",
      "source": [
        "#3. Input the name and age from a user and store the values in variables\n",
        "name = input(\"Enter your name :\")       # Prompts the user to enter their name and stores it as a string in the variable 'name'\n",
        "age = int(input(\"Enter your age :\"))    # Prompts the user to enter their age, converts it to an integer, and stores it in the variable 'age'"
      ],
      "metadata": {
        "colab": {
          "base_uri": "https://localhost:8080/"
        },
        "id": "_uNRx0xTu_FO",
        "outputId": "8acb8ced-883c-47cd-c428-df706c100047"
      },
      "execution_count": null,
      "outputs": [
        {
          "name": "stdout",
          "output_type": "stream",
          "text": [
            "Enter your name :asif\n",
            "Enter your age :23\n"
          ]
        }
      ]
    },
    {
      "cell_type": "code",
      "source": [
        "#4. Declare a variable is_married and assign a value to it\n",
        "is_married = True       # Assigns the Boolean value True (without quotes)\n",
        "print(is_married)       # Prints: True"
      ],
      "metadata": {
        "colab": {
          "base_uri": "https://localhost:8080/"
        },
        "id": "q8Grdnr_vPe1",
        "outputId": "703edc7d-3ea2-4873-f09f-3ad6dc0e2b27"
      },
      "execution_count": null,
      "outputs": [
        {
          "output_type": "stream",
          "name": "stdout",
          "text": [
            "True\n"
          ]
        }
      ]
    },
    {
      "cell_type": "code",
      "source": [
        "#5. Declare a variable is_true and assign a value to it\n",
        "is_true = True       # Assigns the Boolean value True (without quotes)\n",
        "print(is_true)       # Prints: True"
      ],
      "metadata": {
        "colab": {
          "base_uri": "https://localhost:8080/"
        },
        "id": "-XpyWXaxvbcN",
        "outputId": "dbeda4aa-9805-46e2-ca0c-188f65b656a3"
      },
      "execution_count": null,
      "outputs": [
        {
          "output_type": "stream",
          "name": "stdout",
          "text": [
            "True\n"
          ]
        }
      ]
    },
    {
      "cell_type": "code",
      "source": [
        "#6. Declare a variable is_light_on and assign a value to it\n",
        "is_light_on = False     # Assigns the Boolean value False to the variable\n",
        "print(is_light_on)      # Prints: False"
      ],
      "metadata": {
        "colab": {
          "base_uri": "https://localhost:8080/"
        },
        "id": "WXJ2dmbcvt9G",
        "outputId": "c4d2bbd3-6a92-4d8e-a29f-80deadab26dd"
      },
      "execution_count": null,
      "outputs": [
        {
          "output_type": "stream",
          "name": "stdout",
          "text": [
            "False\n"
          ]
        }
      ]
    },
    {
      "cell_type": "code",
      "source": [
        "#7. Declare a variable first_name and store your name in it\n",
        "#Using the len() built-in function, find the length of your first name\n"
      ],
      "metadata": {
        "id": "AJg4EsOSvvvk"
      },
      "execution_count": null,
      "outputs": []
    },
    {
      "cell_type": "code",
      "source": [
        "#8. Compare the length of your first name and your last name"
      ],
      "metadata": {
        "id": "8mKcJs_ixIjz"
      },
      "execution_count": null,
      "outputs": []
    },
    {
      "cell_type": "code",
      "source": [
        "#9. Declare 5 as num_one and 4 as num_two"
      ],
      "metadata": {
        "id": "JAPTZCQfxLmQ"
      },
      "execution_count": null,
      "outputs": []
    },
    {
      "cell_type": "code",
      "source": [
        "#10. Add num_one and num_two and assign the value to a variable total\n",
        "a = 5              # First number\n",
        "b = 10             # Second number\n",
        "total = a + b          # Add a and b, store result in c\n",
        "print(total)           # Output: 15"
      ],
      "metadata": {
        "colab": {
          "base_uri": "https://localhost:8080/"
        },
        "id": "7tIuboG7xOYR",
        "outputId": "542b1bf1-62cd-4b0b-b7b0-5b4dbdf75bf6"
      },
      "execution_count": null,
      "outputs": [
        {
          "output_type": "stream",
          "name": "stdout",
          "text": [
            "15\n"
          ]
        }
      ]
    },
    {
      "cell_type": "code",
      "source": [
        "#11. Subtract num_two from num_one and assign the value to a variable diff\n",
        "a = 5              # First number\n",
        "b = 10             # Second number\n",
        "diff = a - b          # Subtract b from a\n",
        "print(diff)           # Output: -5\n"
      ],
      "metadata": {
        "colab": {
          "base_uri": "https://localhost:8080/"
        },
        "id": "s_GVEzPfxRwX",
        "outputId": "ed88b6dc-b30d-4f39-9b0d-32c35585e380"
      },
      "execution_count": null,
      "outputs": [
        {
          "output_type": "stream",
          "name": "stdout",
          "text": [
            "-5\n"
          ]
        }
      ]
    },
    {
      "cell_type": "code",
      "source": [
        "#12. Multiply num_two and num_one and assign the value to a variable product\n",
        "a = 5              # First number\n",
        "b = 10             # Second number\n",
        "product = a * b          # Multiply a and b\n",
        "print(product)           # Output: 50"
      ],
      "metadata": {
        "colab": {
          "base_uri": "https://localhost:8080/"
        },
        "id": "lcdlhkn_xpKO",
        "outputId": "e116bdfe-3e3f-4bfd-f70b-c2dc43616e40"
      },
      "execution_count": null,
      "outputs": [
        {
          "output_type": "stream",
          "name": "stdout",
          "text": [
            "50\n"
          ]
        }
      ]
    },
    {
      "cell_type": "code",
      "source": [
        "#13. Divide num_one by num_two and assign the value to a variable division\n",
        "a = 5              # First number\n",
        "b = 10             # Second number\n",
        "division = a / b          # Divide a by b\n",
        "print(division)           # Output: 0.5"
      ],
      "metadata": {
        "colab": {
          "base_uri": "https://localhost:8080/"
        },
        "id": "1IFEoHgWxuJf",
        "outputId": "cada8913-3e23-487b-869a-c85ee3ca0632"
      },
      "execution_count": null,
      "outputs": [
        {
          "output_type": "stream",
          "name": "stdout",
          "text": [
            "0.5\n"
          ]
        }
      ]
    },
    {
      "cell_type": "code",
      "source": [
        "#14. Use modulus division to find num_two divided by num_one and assign the value\n",
        "# to a variable remainder\n",
        "a = 5              # First number\n",
        "b = 10             # Second number\n",
        "remainder = a % b          # Find the remainder when a is divided by b\n",
        "print(remainder)           # Output: 5"
      ],
      "metadata": {
        "colab": {
          "base_uri": "https://localhost:8080/"
        },
        "id": "vIKw7DCFxxST",
        "outputId": "8f68e1f0-71ff-4182-ba03-9f45f08c9d06"
      },
      "execution_count": null,
      "outputs": [
        {
          "output_type": "stream",
          "name": "stdout",
          "text": [
            "5\n"
          ]
        }
      ]
    },
    {
      "cell_type": "code",
      "source": [
        "#15. Calculate num_one to the power of num_two and assign the value to a variable exp\n",
        "a = 5              # First number\n",
        "b = 10             # Second number\n",
        "exp = a ** b          # Calculate a to the power of b\n",
        "print(exp)           # Output: 9765625"
      ],
      "metadata": {
        "colab": {
          "base_uri": "https://localhost:8080/"
        },
        "id": "9lYEnxB0x1Gr",
        "outputId": "d423d324-804b-47b8-b383-9780edb74d96"
      },
      "execution_count": null,
      "outputs": [
        {
          "output_type": "stream",
          "name": "stdout",
          "text": [
            "9765625\n"
          ]
        }
      ]
    },
    {
      "cell_type": "code",
      "source": [
        "#16.Find floor division of num_one by num_two and assign the value to a variable floor_division\n",
        "a = 5              # First number\n",
        "b = 10             # Second number\n",
        "floor_division = a // b          # Find the floor division of a by b\n",
        "print(floor_division)           # Output: 0"
      ],
      "metadata": {
        "colab": {
          "base_uri": "https://localhost:8080/"
        },
        "id": "wWO4zvjUx4aP",
        "outputId": "9bf557a1-b6d7-481f-c303-e49c644f3ba4"
      },
      "execution_count": null,
      "outputs": [
        {
          "output_type": "stream",
          "name": "stdout",
          "text": [
            "0\n"
          ]
        }
      ]
    },
    {
      "cell_type": "code",
      "source": [
        "#17\n",
        "#1. Declare your age as integer variable\n",
        "#2. Declare your height as a float variable\n",
        "#3. Declare a variable that store a complex number\n",
        "age = 25                   # Integer variable\n",
        "height = 160.0             # Float variable\n",
        "num = 4 + 5j               # Complex number\n",
        "print(age, height, num)    # Output: 25 160.0 (4+5j)"
      ],
      "metadata": {
        "colab": {
          "base_uri": "https://localhost:8080/"
        },
        "id": "3DHjvMswx9ZY",
        "outputId": "ffab5471-f343-4c68-efcb-dab087f45e19"
      },
      "execution_count": null,
      "outputs": [
        {
          "output_type": "stream",
          "name": "stdout",
          "text": [
            "25 160.0 (4+5j)\n"
          ]
        }
      ]
    },
    {
      "cell_type": "code",
      "source": [
        "#18. Write a script that prompts the user to enter\n",
        "#side a, side b, and side c of the triangle.\n",
        "#Calculate the perimeter of the triangle (perimeter = a + b + c).\n",
        "side_a = int(input(\"Enter side a: \"))    # Input side a\n",
        "side_b = int(input(\"Enter side b: \"))    # Input side b\n",
        "side_c = int(input(\"Enter side c: \"))    # Input side c\n",
        "perimeter = side_a + side_b + side_c     # Sum of all sides\n",
        "print(\"Perimeter of the triangle:\", perimeter)"
      ],
      "metadata": {
        "colab": {
          "base_uri": "https://localhost:8080/"
        },
        "id": "5Z8ts303yAYW",
        "outputId": "78f236d3-16e8-4b9d-db42-d461dc460b4b"
      },
      "execution_count": null,
      "outputs": [
        {
          "output_type": "stream",
          "name": "stdout",
          "text": [
            "Enter side a: 3\n",
            "Enter side b: 3\n",
            "Enter side c: 3\n",
            "Perimeter of the triangle: 9\n"
          ]
        }
      ]
    },
    {
      "cell_type": "code",
      "source": [
        "#19.Get length and width of a rectangle using prompt.\n",
        "#Calculate its area (area = length x width) and perimeter (perimeter = 2 x (length + width))\n",
        "length = int(input(\"Enter length: \"))    # Input length\n",
        "width = int(input(\"Enter width: \"))      # Input width\n",
        "area = length * width                     # Calculate area\n",
        "perimeter = 2 * (length + width)          # Calculate perimeter\n",
        "print(\"Area of the rectangle:\", area)     # Print Area\n",
        "print(\"Perimeter of the rectangle:\", perimeter) #print Perimeter3"
      ],
      "metadata": {
        "colab": {
          "base_uri": "https://localhost:8080/"
        },
        "id": "bvQiOxMDyEvF",
        "outputId": "696360da-192d-40a1-b71c-1d7ee7efb4ba"
      },
      "execution_count": null,
      "outputs": [
        {
          "output_type": "stream",
          "name": "stdout",
          "text": [
            "Enter length: 2\n",
            "Enter width: 3\n",
            "Area of the rectangle: 6\n",
            "Perimeter of the rectangle: 10\n"
          ]
        }
      ]
    },
    {
      "cell_type": "code",
      "source": [
        "#20. Calculate the slope, x-intercept and y-intercept of y = 2x -2\n",
        "x = int(input(\"Enter x: \"))       # Input x value\n",
        "y = 2 * x - 2                     # Apply equation y = 2x - 2\n",
        "print(y)"
      ],
      "metadata": {
        "colab": {
          "base_uri": "https://localhost:8080/"
        },
        "id": "HO69R4JeyI4G",
        "outputId": "62d7bfad-1b20-4be8-8631-aacfdef635a3"
      },
      "execution_count": null,
      "outputs": [
        {
          "output_type": "stream",
          "name": "stdout",
          "text": [
            "Enter x: 9\n",
            "16\n"
          ]
        }
      ]
    },
    {
      "cell_type": "code",
      "source": [
        "#21. Slope is (m = y2-y1/x2-x1).\n",
        "#Find the slope and Euclidean distance between\n",
        "#point (2, 2) and point (6,10)\n",
        "import math\n",
        "x1 = 2\n",
        "y1 = 2\n",
        "x2 = 6\n",
        "y2 = 10\n",
        "m = (y2 - y1) / (x2 - x1)                         # Slope formula\n",
        "eu = math.sqrt((x2 - x1)**2 + (y2 - y1)**2)       # Euclidean distance formula\n",
        "print(m)                                          # Output: 2.0\n",
        "print(round(eu, 2))                               # Output: 8.94"
      ],
      "metadata": {
        "colab": {
          "base_uri": "https://localhost:8080/"
        },
        "id": "LjZ3c2imyM-N",
        "outputId": "b832975e-87b8-4519-947d-048c1f73889a"
      },
      "execution_count": null,
      "outputs": [
        {
          "output_type": "stream",
          "name": "stdout",
          "text": [
            "2.0\n",
            "8.94\n"
          ]
        }
      ]
    },
    {
      "cell_type": "code",
      "source": [
        "#22. Compare the slopes in previous tasks\n",
        "m = 5.0\n",
        "eu = 4.0\n",
        "print(m == eu)        # Output: False"
      ],
      "metadata": {
        "colab": {
          "base_uri": "https://localhost:8080/"
        },
        "id": "Ki6FAq8VyQUp",
        "outputId": "0421bf12-d842-431e-98bb-3794657891da"
      },
      "execution_count": null,
      "outputs": [
        {
          "output_type": "stream",
          "name": "stdout",
          "text": [
            "False\n"
          ]
        }
      ]
    },
    {
      "cell_type": "code",
      "source": [
        "#23. Calculate the value of y (y = x^2 + 6x + 9).\n",
        "#Try to use different x values and\n",
        "#figure out at what x value y is going to be 0.\n",
        "x = -3\n",
        "y = x**2 + 6*x + 9     # Quadratic expression\n",
        "print(y)               # Output: 0"
      ],
      "metadata": {
        "colab": {
          "base_uri": "https://localhost:8080/"
        },
        "id": "QNJyX2ZWyTK6",
        "outputId": "b05d12e8-dd43-43ce-cfa5-8adb3529a23a"
      },
      "execution_count": null,
      "outputs": [
        {
          "output_type": "stream",
          "name": "stdout",
          "text": [
            "0\n"
          ]
        }
      ]
    },
    {
      "cell_type": "code",
      "source": [
        "#24. Use and operator to check if 'on' is found in both 'python' and 'dragon'\n",
        "a = \"python\"\n",
        "b = \"dragon\"\n",
        "if \"on\" in a and \"on\" in b:\n",
        "    print(\"on in both\")\n",
        "else:\n",
        "    print(\"not found\")"
      ],
      "metadata": {
        "colab": {
          "base_uri": "https://localhost:8080/"
        },
        "id": "7KeehM8wyWjD",
        "outputId": "1a6cbc17-a393-4a79-ef8d-618577f9c8af"
      },
      "execution_count": null,
      "outputs": [
        {
          "output_type": "stream",
          "name": "stdout",
          "text": [
            "on in both\n"
          ]
        }
      ]
    },
    {
      "cell_type": "code",
      "source": [
        "#25. Find the length of the text python and convert the value to float and\n",
        "#convert it to string\n",
        "text = \"python\"\n",
        "length = len(text)             # Count characters\n",
        "fl = float(length)             # Convert to float\n",
        "string = str(fl)               # Convert to string\n",
        "print(\"length is\", length)\n",
        "print(\"float is\", fl)\n",
        "print(\"string is\", string)"
      ],
      "metadata": {
        "colab": {
          "base_uri": "https://localhost:8080/"
        },
        "id": "Ua2flyFiyZVm",
        "outputId": "0359ef87-34c9-4b98-c996-c631d1808127"
      },
      "execution_count": null,
      "outputs": [
        {
          "output_type": "stream",
          "name": "stdout",
          "text": [
            "length is 6\n",
            "float is 6.0\n",
            "string is 6.0\n"
          ]
        }
      ]
    },
    {
      "cell_type": "code",
      "source": [
        "#26. I hope this course is not full of jargon.\n",
        "#Use in operator to check if jargon is in the sentence.\n",
        "text = \"I hope this course is not full of jargon.\"\n",
        "if \"jargon\" in text:\n",
        "    print(\"yes\")\n",
        "else:\n",
        "    print(\"no\")"
      ],
      "metadata": {
        "colab": {
          "base_uri": "https://localhost:8080/"
        },
        "id": "TIDof24tycIK",
        "outputId": "ab26a1c7-4666-4660-e8dc-16b41b375d96"
      },
      "execution_count": null,
      "outputs": [
        {
          "output_type": "stream",
          "name": "stdout",
          "text": [
            "yes\n"
          ]
        }
      ]
    },
    {
      "cell_type": "code",
      "source": [
        "#27. Even numbers are divisible by 2 and the remainder is zero.\n",
        "#How do you check if a number is even or not using python?\n",
        "value = int(input(\"Enter a value: \"))   #input value from user\n",
        "if value % 2 == 0:                      #using if condition\n",
        "    print(\"It is divisible by 2\")       #printing if statement\n",
        "else:\n",
        "    print(\"It is not divisible by 2\")   #printing else statement"
      ],
      "metadata": {
        "colab": {
          "base_uri": "https://localhost:8080/"
        },
        "id": "1psuD_7QygEl",
        "outputId": "7245a7cc-0bc3-48ed-8a9e-50b4e44c5202"
      },
      "execution_count": null,
      "outputs": [
        {
          "output_type": "stream",
          "name": "stdout",
          "text": [
            "Enter a value: 8\n",
            "It is divisible by 2\n"
          ]
        }
      ]
    },
    {
      "cell_type": "code",
      "source": [
        "#28. Check if the floor division of 7 by 3 is equal to the int converted value of 2.7.\n",
        "a = 7 // 3\n",
        "b = 2.7\n",
        "if a == int(b):         # Convert float to int before comparison\n",
        "    print(\"Same\")\n",
        "else:\n",
        "    print(\"Not same\")"
      ],
      "metadata": {
        "colab": {
          "base_uri": "https://localhost:8080/"
        },
        "id": "AEALtiuwyjyI",
        "outputId": "7f173e38-cdb6-4ab7-bd21-7399449b7c6c"
      },
      "execution_count": null,
      "outputs": [
        {
          "output_type": "stream",
          "name": "stdout",
          "text": [
            "Same\n"
          ]
        }
      ]
    },
    {
      "cell_type": "code",
      "source": [
        "#29. Check if type of '10' is equal to type of 10\n",
        "if type('10') == type(10):     # Compare str vs int\n",
        "    print(\"true\")\n",
        "else:\n",
        "    print(\"false\")"
      ],
      "metadata": {
        "colab": {
          "base_uri": "https://localhost:8080/"
        },
        "id": "263WEKu8ymgH",
        "outputId": "376f5542-4119-4db7-fb8e-f4bf4b12eede"
      },
      "execution_count": null,
      "outputs": [
        {
          "output_type": "stream",
          "name": "stdout",
          "text": [
            "false\n"
          ]
        }
      ]
    },
    {
      "cell_type": "code",
      "source": [
        "#30. Check if int('9.8') is equal to 10\n",
        "a = float('9.8')         # Convert string to float\n",
        "if a == 10:\n",
        "    print(\"True\")\n",
        "else:\n",
        "    print(\"False\")"
      ],
      "metadata": {
        "colab": {
          "base_uri": "https://localhost:8080/"
        },
        "id": "J7lYVl1Rypcf",
        "outputId": "55e57b9f-a670-40e9-cab9-f8e4e10cb716"
      },
      "execution_count": null,
      "outputs": [
        {
          "output_type": "stream",
          "name": "stdout",
          "text": [
            "False\n"
          ]
        }
      ]
    },
    {
      "cell_type": "code",
      "source": [
        "#31. Write a code which gives grade to students according to theirs scores:\n",
        "#80-100, A\n",
        "#70-89, B\n",
        "#60-69, C\n",
        "#50-59, D\n",
        "#0-49, F\n",
        "mark = int(input(\"Enter a mark: \"))  # Prompt user to enter a score and convert it to integer\n",
        "\n",
        "if mark >= 80 and mark <= 100:       # Check if score is between 80 and 100\n",
        "    print(\"A\")                       # Grade A\n",
        "elif mark >= 70 and mark <= 79:      # Check if score is between 70 and 79\n",
        "    print(\"B\")                       # Grade B\n",
        "elif mark >= 60 and mark <= 69:      # Check if score is between 60 and 69\n",
        "    print(\"C\")                       # Grade C\n",
        "elif mark >= 50 and mark <= 59:      # Check if score is between 50 and 59\n",
        "    print(\"D\")                       # Grade D\n",
        "else:                                # If score is below 50\n",
        "    print(\"F\")                       # Grade F"
      ],
      "metadata": {
        "colab": {
          "base_uri": "https://localhost:8080/"
        },
        "id": "i3_I54bpysWp",
        "outputId": "7120e1ce-b449-40f3-b283-0094fde06371"
      },
      "execution_count": null,
      "outputs": [
        {
          "output_type": "stream",
          "name": "stdout",
          "text": [
            "Enter a mark: 55\n",
            "D\n"
          ]
        }
      ]
    },
    {
      "cell_type": "code",
      "source": [
        "#32.Check if the season is Autumn, Winter, Spring or Summer. If the user input is:\n",
        "#September, October or November, the season is Autumn. December, January\n",
        "#or February, the season is Winter. March, April or May, the season is Spring\n",
        "#June, July or August, the season is Summer\n",
        "\n",
        "season = input(\"Enter month: \").capitalize()  # Prompt user to enter a month and capitalize the first letter\n",
        "\n",
        "response = [                                  # List of seasons grouped by months\n",
        "    [\"September\", \"October\", \"November\"],     # Autumn\n",
        "    [\"December\", \"January\", \"February\"],      # Winter\n",
        "    [\"March\", \"April\", \"May\"],                # Spring\n",
        "    [\"June\", \"July\", \"August\"]                # Summer\n",
        "]\n",
        "\n",
        "if season in response[0]:                     # Check if month is in Autumn group\n",
        "    print(\"Autumn\")\n",
        "elif season in response[1]:                   # Check if month is in Winter group\n",
        "    print(\"Winter\")\n",
        "elif season in response[2]:                   # Check if month is in Spring group\n",
        "    print(\"Spring\")\n",
        "elif season in response[3]:                   # Check if month is in Summer group\n",
        "    print(\"Summer\")\n",
        "else:                                         # If month doesn't match any group\n",
        "    print(\"Not found\")"
      ],
      "metadata": {
        "colab": {
          "base_uri": "https://localhost:8080/"
        },
        "id": "HixqQHnByvEe",
        "outputId": "84002d03-6645-4d17-db94-cd940d02d4dd"
      },
      "execution_count": null,
      "outputs": [
        {
          "output_type": "stream",
          "name": "stdout",
          "text": [
            "Enter month: september\n",
            "Autumn\n"
          ]
        }
      ]
    }
  ]
}